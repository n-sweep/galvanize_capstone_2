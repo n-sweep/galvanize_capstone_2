{
 "cells": [
  {
   "cell_type": "code",
   "execution_count": 1,
   "id": "requested-dominant",
   "metadata": {},
   "outputs": [],
   "source": [
    "import os\n",
    "import re\n",
    "import sys\n",
    "import json\n",
    "import pandas as pd\n",
    "import psycopg2 as pg2\n",
    "from tqdm import tqdm\n",
    "from time import sleep\n",
    "from bs4 import BeautifulSoup\n",
    "from pymongo import MongoClient\n",
    "\n",
    "from src.run import hot_soup\n",
    "from src.crawler import Crawler\n",
    "\n",
    "client = MongoClient('192.168.0.209', 27017)\n",
    "db = client['reverb']\n",
    "link_coll = db['links']\n",
    "sales_coll = db['sales']\n",
    "data_coll = db['data']"
   ]
  },
  {
   "cell_type": "code",
   "execution_count": 2,
   "id": "backed-evaluation",
   "metadata": {
    "jupyter": {
     "source_hidden": true
    },
    "tags": []
   },
   "outputs": [],
   "source": [
    "brands = [\n",
    "    'Airline',\n",
    "    'American Showster',\n",
    "    'Ampeg',\n",
    "    'Aria',\n",
    "    'B.C. Rich',\n",
    "    'B3',\n",
    "    'BC Rich',\n",
    "    'Baldwin',\n",
    "    'Bilt',\n",
    "    'Bogner',\n",
    "    'Burns',\n",
    "    'Campbell',\n",
    "    'Charvel',\n",
    "    'Collings',\n",
    "    'Conrad',\n",
    "    'Conradd',\n",
    "    'Cort',\n",
    "    \"D'Angelico\",\n",
    "    'Danelectro',\n",
    "    'DeArmond',\n",
    "    'Dean',\n",
    "    'DiPinto',\n",
    "    'Dobro',\n",
    "    'Duesenberg',\n",
    "    'EKO',\n",
    "    'ESP',\n",
    "    'EVH',\n",
    "    'Eastman',\n",
    "    'Eastwood',\n",
    "    'Electra',\n",
    "    'Epiphone',\n",
    "    'Ernie Ball Music Man',\n",
    "    'Fano',\n",
    "    'Fender',\n",
    "    'Framus',\n",
    "    'G&L',\n",
    "    'Gibson',\n",
    "    'Giffin',\n",
    "    'Godin',\n",
    "    'Goya',\n",
    "    'Gretsch',\n",
    "    'Grosh',\n",
    "    'Guild',\n",
    "    'Guyatone',\n",
    "    'Hagstrom',\n",
    "    'Hamer',\n",
    "    'Harden Engineering',\n",
    "    'Harmony',\n",
    "    'Heritage',\n",
    "    'Hofner',\n",
    "    'Hohner',\n",
    "    'Ibanez',\n",
    "    'Ibanez',\n",
    "    'Intermark',\n",
    "    'Jackson',\n",
    "    'James Trussart',\n",
    "    'Jerry Jones',\n",
    "    'Kalamazoo',\n",
    "    'Kay',\n",
    "    'Kimberly',\n",
    "    'Kramer',\n",
    "    'La Baye',\n",
    "    'Larrivee',\n",
    "    'Line 6',\n",
    "    'MCI',\n",
    "    'Magnatone',\n",
    "    'Martin',\n",
    "    'Memphis',\n",
    "    'Micro-Frets',\n",
    "    'Moog',\n",
    "    'Mosrite',\n",
    "    'Music Man',\n",
    "    'Musicraft',\n",
    "    'Musicvox',\n",
    "    'Nash',\n",
    "    'National',\n",
    "    'Norma',\n",
    "    'Orville',\n",
    "    'Ovation',\n",
    "    'Parker',\n",
    "    'Paul Reed Smith',\n",
    "    'Peavey',\n",
    "    'Premier',\n",
    "    'Reverend',\n",
    "    'Rickenbacker',\n",
    "    'Roland',\n",
    "    'SWR',\n",
    "    'Schecter',\n",
    "    'Silvertone',\n",
    "    'Sorrento',\n",
    "    'Squier',\n",
    "    'Steinberger',\n",
    "    'Stteinbereger',\n",
    "    'Suhr',\n",
    "    'Supro',\n",
    "    'Taylor',\n",
    "    'Teisco',\n",
    "    'The Loar',\n",
    "    'Tokai',\n",
    "    'Tom Anderson',\n",
    "    'Travis',\n",
    "    'Truetone',\n",
    "    'Two Rock',\n",
    "    'Univox',\n",
    "    'Vox',\n",
    "    'Washburn',\n",
    "    'Yamaha'\n",
    "]"
   ]
  },
  {
   "cell_type": "code",
   "execution_count": 3,
   "id": "friendly-armstrong",
   "metadata": {
    "tags": []
   },
   "outputs": [
    {
     "data": {
      "text/html": [
       "<div>\n",
       "<style scoped>\n",
       "    .dataframe tbody tr th:only-of-type {\n",
       "        vertical-align: middle;\n",
       "    }\n",
       "\n",
       "    .dataframe tbody tr th {\n",
       "        vertical-align: top;\n",
       "    }\n",
       "\n",
       "    .dataframe thead th {\n",
       "        text-align: right;\n",
       "    }\n",
       "</style>\n",
       "<table border=\"1\" class=\"dataframe\">\n",
       "  <thead>\n",
       "    <tr style=\"text-align: right;\">\n",
       "      <th></th>\n",
       "      <th>title</th>\n",
       "      <th>date</th>\n",
       "      <th>cond</th>\n",
       "      <th>price</th>\n",
       "    </tr>\n",
       "  </thead>\n",
       "  <tbody>\n",
       "    <tr>\n",
       "      <th>0</th>\n",
       "      <td>Rickenbacker 660-12 Tom Petty Signature 1992</td>\n",
       "      <td>2/23/2021</td>\n",
       "      <td>Excellent</td>\n",
       "      <td>$6,495</td>\n",
       "    </tr>\n",
       "    <tr>\n",
       "      <th>1</th>\n",
       "      <td>Rickenbacker 660-12 Tom Petty Signature 1992</td>\n",
       "      <td>12/7/2020</td>\n",
       "      <td>Excellent</td>\n",
       "      <td>$4,325</td>\n",
       "    </tr>\n",
       "    <tr>\n",
       "      <th>2</th>\n",
       "      <td>Rickenbacker 660-12 Tom Petty Signature 1992</td>\n",
       "      <td>10/20/2020</td>\n",
       "      <td>Excellent</td>\n",
       "      <td>$7,995</td>\n",
       "    </tr>\n",
       "    <tr>\n",
       "      <th>3</th>\n",
       "      <td>Rickenbacker 660-12 Tom Petty Signature 1992</td>\n",
       "      <td>9/28/2020</td>\n",
       "      <td>Excellent</td>\n",
       "      <td>$5,495</td>\n",
       "    </tr>\n",
       "    <tr>\n",
       "      <th>4</th>\n",
       "      <td>Rickenbacker 660-12 Tom Petty Signature 1992</td>\n",
       "      <td>5/26/2020</td>\n",
       "      <td>Excellent</td>\n",
       "      <td>$5,800</td>\n",
       "    </tr>\n",
       "  </tbody>\n",
       "</table>\n",
       "</div>"
      ],
      "text/plain": [
       "                                          title        date       cond   price\n",
       "0  Rickenbacker 660-12 Tom Petty Signature 1992   2/23/2021  Excellent  $6,495\n",
       "1  Rickenbacker 660-12 Tom Petty Signature 1992   12/7/2020  Excellent  $4,325\n",
       "2  Rickenbacker 660-12 Tom Petty Signature 1992  10/20/2020  Excellent  $7,995\n",
       "3  Rickenbacker 660-12 Tom Petty Signature 1992   9/28/2020  Excellent  $5,495\n",
       "4  Rickenbacker 660-12 Tom Petty Signature 1992   5/26/2020  Excellent  $5,800"
      ]
     },
     "execution_count": 3,
     "metadata": {},
     "output_type": "execute_result"
    }
   ],
   "source": [
    "sales_df = pd.DataFrame(list(sales_coll.find({},{'_id':0})))\n",
    "sales_df.head()"
   ]
  },
  {
   "cell_type": "code",
   "execution_count": 4,
   "id": "charming-freedom",
   "metadata": {},
   "outputs": [
    {
     "name": "stdout",
     "output_type": "stream",
     "text": [
      "<class 'pandas.core.frame.DataFrame'>\n",
      "RangeIndex: 5065 entries, 0 to 5064\n",
      "Data columns (total 3 columns):\n",
      " #   Column  Non-Null Count  Dtype \n",
      "---  ------  --------------  ----- \n",
      " 0   title   5065 non-null   object\n",
      " 1   link    5065 non-null   object\n",
      " 2   html    2994 non-null   object\n",
      "dtypes: object(3)\n",
      "memory usage: 118.8+ KB\n"
     ]
    }
   ],
   "source": [
    "links_df = pd.DataFrame(list(link_coll.find({}, {'_id': 0})))\n",
    "links_df.info()"
   ]
  },
  {
   "cell_type": "code",
   "execution_count": 5,
   "id": "fitting-sitting",
   "metadata": {
    "tags": []
   },
   "outputs": [
    {
     "name": "stdout",
     "output_type": "stream",
     "text": [
      "https://reverb.com/price-guide/guide/31-rickenbacker-660-12-tom-petty-signature-1992\n",
      "https://reverb.com/price-guide/guide/33-fender-coronado-ii-1968-antigua\n",
      "https://reverb.com/price-guide/guide/38-fender-stratocaster-1958-sunburst\n",
      "https://reverb.com/price-guide/guide/42-fender-stratocaster-1964-sunburst\n",
      "https://reverb.com/price-guide/guide/124-epiphone-zephyr-1944-sunburst\n",
      "https://reverb.com/price-guide/guide/677-fender-esquire-1951-butterscotch-blonde\n",
      "https://reverb.com/price-guide/guide/685-fender-jazzmaster-1960-sunburst\n",
      "https://reverb.com/price-guide/guide/684-fender-jazzmaster-1959-sunburst-tortoise-pickguard\n",
      "https://reverb.com/price-guide/guide/683-fender-jazzmaster-1959-sunburst-with-gold-pickguard\n",
      "https://reverb.com/price-guide/guide/689-fender-jazzmaster-1962-3-tone-sunburst\n"
     ]
    }
   ],
   "source": [
    "for link in list(link_coll.find({'html': {'$exists': True}}))[:10]:\n",
    "    print(link['link'])"
   ]
  },
  {
   "cell_type": "code",
   "execution_count": 7,
   "id": "great-monitor",
   "metadata": {},
   "outputs": [],
   "source": [
    "html = link_coll.find_one({'html': {'$exists': True}})['html']\n",
    "soup = hot_soup(html)"
   ]
  },
  {
   "cell_type": "code",
   "execution_count": 13,
   "id": "illegal-asian",
   "metadata": {
    "collapsed": true,
    "jupyter": {
     "outputs_hidden": true
    },
    "tags": []
   },
   "outputs": [
    {
     "name": "stdout",
     "output_type": "stream",
     "text": [
      "\n",
      "\n",
      "----\n",
      "<p>Built to the specifications of Tom Petty, this signature Rickenbacker 660-12 was released with an array of deluxe features in a limited run of 1000 from 1991 to 1997. The Tom Petty 660 is actually the first 660 entry in the iconic 600 series, and would be followed by a normal production 660 12-string in 1998. The Tom Petty edition is distinguished from other 600-series 12-strings by two \"Toaster Top\" humbuckers, a fancier slanted plate tailpiece, as well as Tom's signature on the pickguard. As the first 12-string 660, this guitar is of great interest to Rickenbacker collectors as well as fans of Tom Petty, so the value on this <i>American Girl </i>won't be <i>free fallin' </i>any time soon.  <br/><br/><b>Years of Production:</b> 1991 - 1997 <br/><br/><b>Design Elements: T</b>wo chrome bar \"Toaster Top\" pickups, a slanted plate tailpiece, and deluxe trim<br/><br/><b>Body Style:</b> Cresting Wave body shape 12-string<br/><br/><b>Wood Composition: </b>Maple body, Maple neck, Rosewood fingerboard<br/><br/><b>Notable Players: </b>Tom Petty, Mike Campbell<br/></p>\n",
      "----\n",
      "Built to the specifications of Tom Petty, this signature Rickenbacker 660-12 was released with an array of deluxe features in a limited run of 1000 from 1991 to 1997. The Tom Petty 660 is actually the first 660 entry in the iconic 600 series, and would be followed by a normal production 660 12-string in 1998. The Tom Petty edition is distinguished from other 600-series 12-strings by two \"Toaster Top\" humbuckers, a fancier slanted plate tailpiece, as well as Tom's signature on the pickguard. As the first 12-string 660, this guitar is of great interest to Rickenbacker collectors as well as fans of Tom Petty, so the value on this \n",
      "----\n",
      "<i>American Girl </i>\n",
      "----\n",
      "American Girl \n",
      "----\n",
      "won't be \n",
      "----\n",
      "<i>free fallin' </i>\n",
      "----\n",
      "free fallin' \n",
      "----\n",
      "any time soon.  \n",
      "----\n",
      "<br/>\n",
      "----\n",
      "<br/>\n",
      "----\n",
      "<b>Years of Production:</b>\n",
      "----\n",
      "Years of Production:\n",
      "----\n",
      " 1991 - 1997 \n",
      "----\n",
      "<br/>\n",
      "----\n",
      "<br/>\n",
      "----\n",
      "<b>Design Elements: T</b>\n",
      "----\n",
      "Design Elements: T\n",
      "----\n",
      "wo chrome bar \"Toaster Top\" pickups, a slanted plate tailpiece, and deluxe trim\n",
      "----\n",
      "<br/>\n",
      "----\n",
      "<br/>\n",
      "----\n",
      "<b>Body Style:</b>\n",
      "----\n",
      "Body Style:\n",
      "----\n",
      " Cresting Wave body shape 12-string\n",
      "----\n",
      "<br/>\n",
      "----\n",
      "<br/>\n",
      "----\n",
      "<b>Wood Composition: </b>\n",
      "----\n",
      "Wood Composition: \n",
      "----\n",
      "Maple body, Maple neck, Rosewood fingerboard\n",
      "----\n",
      "<br/>\n",
      "----\n",
      "<br/>\n",
      "----\n",
      "<b>Notable Players: </b>\n",
      "----\n",
      "Notable Players: \n",
      "----\n",
      "Tom Petty, Mike Campbell\n",
      "----\n",
      "<br/>\n",
      "----\n",
      "\n",
      "\n",
      "----\n"
     ]
    }
   ],
   "source": [
    "section = soup.find('section', class_='scaling-pb-2')\n",
    "for d in section.descendants:\n",
    "    print(d)\n",
    "    print('----')"
   ]
  },
  {
   "cell_type": "code",
   "execution_count": 6,
   "id": "global-optimization",
   "metadata": {},
   "outputs": [
    {
     "data": {
      "text/plain": [
       "\"Airline|American Showster|Ampeg|Aria|B.C. Rich|B3|BC Rich|Baldwin|Bilt|Bogner|Burns|Campbell|Charvel|Collings|Conrad|Conradd|Cort|D'Angelico|Danelectro|DeArmond|Dean|DiPinto|Dobro|Duesenberg|EKO|ESP|EVH|Eastman|Eastwood|Electra|Epiphone|Ernie Ball Music Man|Fano|Fender|Framus|G&L|Gibson|Giffin|Godin|Goya|Gretsch|Grosh|Guild|Guyatone|Hagstrom|Hamer|Harden Engineering|Harmony|Heritage|Hofner|Hohner|Ibanez|Ibanez|Intermark|Jackson|James Trussart|Jerry Jones|Kalamazoo|Kay|Kimberly|Kramer|La Baye|Larrivee|Line 6|MCI|Magnatone|Martin|Memphis|Micro-Frets|Moog|Mosrite|Music Man|Musicraft|Musicvox|Nash|National|Norma|Orville|Ovation|Parker|Paul Reed Smith|Peavey|Premier|Reverend|Rickenbacker|Roland|SWR|Schecter|Silvertone|Sorrento|Squier|Steinberger|Stteinbereger|Suhr|Supro|Taylor|Teisco|The Loar|Tokai|Tom Anderson|Travis|Truetone|Two Rock|Univox|Vox|Washburn|Yamaha\""
      ]
     },
     "execution_count": 6,
     "metadata": {},
     "output_type": "execute_result"
    }
   ],
   "source": [
    "'|'.join(brands)"
   ]
  },
  {
   "cell_type": "code",
   "execution_count": 40,
   "id": "rubber-leadership",
   "metadata": {},
   "outputs": [
    {
     "name": "stderr",
     "output_type": "stream",
     "text": [
      "100%|██████████| 2994/2994 [00:00<00:00, 131563.61it/s]\n"
     ]
    }
   ],
   "source": [
    "r1 = \")(?:(?:(.+)((?:Early|Mid|Late)-?\\s?'?\\d+s\"\n",
    "r2 = \"\\d{4}\\s?-\\s?\\d{4})(.*))\"\n",
    "r3 = \"(?:(.+)(\\d{4}s?)(.*))\"\n",
    "r4 = \"(?:(.+)(\\d{2}s?)(.*)))$\"\n",
    "regex = r\"(\" + '|'.join(brands) + '|'.join([r1, r2, r3, r4])\n",
    "\n",
    "for document in link_coll.find({'html': {'$exists': True}}):\n",
    "    title = document['title']\n",
    "    match = re.match(regex, title, re.IGNORECASE)\n",
    "    # TODO: Add these features to database\n",
    "    #       [    Brand,     Model,     Year,     Color     ]\n",
    "    feats = [g.strip() for g in match.groups() if g is not None]\n",
    "    "
   ]
  },
  {
   "cell_type": "code",
   "execution_count": 4,
   "id": "opposite-transsexual",
   "metadata": {
    "tags": []
   },
   "outputs": [],
   "source": [
    "# conn = pg2.connect(dbname='reverb', host='192.168.0.209', password='galvanize', user='postgres')\n",
    "# cur = conn.cursor()\n",
    "# conn.autocommit = True\n",
    "# cur.execute(\"\"\"CREATE TABLE guitars(\n",
    "#                id INT PRIMARY KEY GENERATED ALWAYS AS IDENTITY,\n",
    "#                title VARCHAR(225),\n",
    "#                date_str VARCHAR(12),\n",
    "#                cond VARCHAR(12),\n",
    "#                sale_price NUMERIC\n",
    "#            );\"\"\")\n",
    "# conn.close()"
   ]
  },
  {
   "cell_type": "code",
   "execution_count": null,
   "id": "banned-tuesday",
   "metadata": {},
   "outputs": [],
   "source": []
  }
 ],
 "metadata": {
  "kernelspec": {
   "display_name": "Python 3",
   "language": "python",
   "name": "python3"
  },
  "language_info": {
   "codemirror_mode": {
    "name": "ipython",
    "version": 3
   },
   "file_extension": ".py",
   "mimetype": "text/x-python",
   "name": "python",
   "nbconvert_exporter": "python",
   "pygments_lexer": "ipython3",
   "version": "3.8.8"
  }
 },
 "nbformat": 4,
 "nbformat_minor": 5
}
