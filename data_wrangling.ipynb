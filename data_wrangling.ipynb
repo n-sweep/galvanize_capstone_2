{
 "cells": [
  {
   "cell_type": "code",
   "execution_count": 1,
   "id": "latin-northeast",
   "metadata": {},
   "outputs": [],
   "source": [
    "import os\n",
    "import re\n",
    "import sys\n",
    "import json\n",
    "import unicodedata\n",
    "import pandas as pd\n",
    "import psycopg2 as pg2\n",
    "from tqdm import tqdm\n",
    "from time import sleep\n",
    "from bs4 import BeautifulSoup\n",
    "from pymongo import MongoClient\n",
    "\n",
    "from src.run import hot_soup, price_to_float\n",
    "from src.crawler import Crawler\n",
    "\n",
    "client = MongoClient('192.168.0.209', 27017)\n",
    "db = client['reverb']\n",
    "link_coll = db['links']\n",
    "sales_coll = db['sales']\n",
    "data_coll = db['data']"
   ]
  },
  {
   "cell_type": "code",
   "execution_count": 2,
   "id": "remarkable-beaver",
   "metadata": {
    "jupyter": {
     "source_hidden": true
    },
    "tags": []
   },
   "outputs": [],
   "source": [
    "brands = [\n",
    "    'Airline',\n",
    "    'American Showster',\n",
    "    'Ampeg',\n",
    "    'Aria',\n",
    "    'B.C. Rich',\n",
    "    'B3',\n",
    "    'BC Rich',\n",
    "    'Baldwin',\n",
    "    'Bilt',\n",
    "    'Bogner',\n",
    "    'Burns',\n",
    "    'Campbell',\n",
    "    'Charvel',\n",
    "    'Collings',\n",
    "    'Conrad',\n",
    "    'Cort',\n",
    "    \"D'Angelico\",\n",
    "    'Danelectro',\n",
    "    'DeArmond',\n",
    "    'Dean',\n",
    "    'DiPinto',\n",
    "    'Dobro',\n",
    "    'Duesenberg',\n",
    "    'EKO',\n",
    "    'ESP',\n",
    "    'EVH',\n",
    "    'Eastman',\n",
    "    'Eastwood',\n",
    "    'Electra',\n",
    "    'Epiphone',\n",
    "    'Ernie Ball Music Man',\n",
    "    'Fano',\n",
    "    'Fender',\n",
    "    'Framus',\n",
    "    'G&L',\n",
    "    'Gibson',\n",
    "    'Giffin',\n",
    "    'Godin',\n",
    "    'Goya',\n",
    "    'Gretsch',\n",
    "    'Grosh',\n",
    "    'Guild',\n",
    "    'Guyatone',\n",
    "    'Hagstrom',\n",
    "    'Hamer',\n",
    "    'Harden Engineering',\n",
    "    'Harmony',\n",
    "    'Heritage',\n",
    "    'Hofner',\n",
    "    'Hohner',\n",
    "    'Ibanez',\n",
    "    'Intermark',\n",
    "    'Jackson',\n",
    "    'James Trussart',\n",
    "    'Jerry Jones',\n",
    "    'Kalamazoo',\n",
    "    'Kay',\n",
    "    'Kimberly',\n",
    "    'Kramer',\n",
    "    'La Baye',\n",
    "    'Larrivee',\n",
    "    'Line 6',\n",
    "    'MCI',\n",
    "    'Magnatone',\n",
    "    'Martin',\n",
    "    'Memphis',\n",
    "    'Micro-Frets',\n",
    "    'Moog',\n",
    "    'Mosrite',\n",
    "    'Music Man',\n",
    "    'Musicraft',\n",
    "    'Musicvox',\n",
    "    'Nash',\n",
    "    'National',\n",
    "    'Norma',\n",
    "    'Orville',\n",
    "    'Ovation',\n",
    "    'Parker',\n",
    "    'Paul Reed Smith',\n",
    "    'Peavey',\n",
    "    'Premier',\n",
    "    'Reverend',\n",
    "    'Rickenbacker',\n",
    "    'Roland',\n",
    "    'SWR',\n",
    "    'Schecter',\n",
    "    'Silvertone',\n",
    "    'Sorrento',\n",
    "    'Squier',\n",
    "    'Steinberger',\n",
    "    'Suhr',\n",
    "    'Supro',\n",
    "    'Taylor',\n",
    "    'Teisco',\n",
    "    'The Loar',\n",
    "    'Tokai',\n",
    "    'Tom Anderson',\n",
    "    'Travis',\n",
    "    'Truetone',\n",
    "    'Two Rock',\n",
    "    'Univox',\n",
    "    'Vox',\n",
    "    'Washburn',\n",
    "    'Yamaha'\n",
    "]"
   ]
  },
  {
   "cell_type": "code",
   "execution_count": 3,
   "id": "received-permission",
   "metadata": {
    "tags": []
   },
   "outputs": [
    {
     "name": "stdout",
     "output_type": "stream",
     "text": [
      "<class 'pandas.core.frame.DataFrame'>\n",
      "RangeIndex: 145601 entries, 0 to 145600\n",
      "Data columns (total 4 columns):\n",
      " #   Column  Non-Null Count   Dtype  \n",
      "---  ------  --------------   -----  \n",
      " 0   title   145601 non-null  object \n",
      " 1   date    145601 non-null  object \n",
      " 2   cond    145601 non-null  object \n",
      " 3   price   145601 non-null  float64\n",
      "dtypes: float64(1), object(3)\n",
      "memory usage: 4.4+ MB\n",
      "None\n"
     ]
    },
    {
     "data": {
      "text/html": [
       "<div>\n",
       "<style scoped>\n",
       "    .dataframe tbody tr th:only-of-type {\n",
       "        vertical-align: middle;\n",
       "    }\n",
       "\n",
       "    .dataframe tbody tr th {\n",
       "        vertical-align: top;\n",
       "    }\n",
       "\n",
       "    .dataframe thead th {\n",
       "        text-align: right;\n",
       "    }\n",
       "</style>\n",
       "<table border=\"1\" class=\"dataframe\">\n",
       "  <thead>\n",
       "    <tr style=\"text-align: right;\">\n",
       "      <th></th>\n",
       "      <th>title</th>\n",
       "      <th>date</th>\n",
       "      <th>cond</th>\n",
       "      <th>price</th>\n",
       "    </tr>\n",
       "  </thead>\n",
       "  <tbody>\n",
       "    <tr>\n",
       "      <th>0</th>\n",
       "      <td>Rickenbacker 660-12 Tom Petty Signature 1992</td>\n",
       "      <td>2/23/2021</td>\n",
       "      <td>Excellent</td>\n",
       "      <td>6495.0</td>\n",
       "    </tr>\n",
       "    <tr>\n",
       "      <th>1</th>\n",
       "      <td>Rickenbacker 660-12 Tom Petty Signature 1992</td>\n",
       "      <td>12/7/2020</td>\n",
       "      <td>Excellent</td>\n",
       "      <td>4325.0</td>\n",
       "    </tr>\n",
       "    <tr>\n",
       "      <th>2</th>\n",
       "      <td>Rickenbacker 660-12 Tom Petty Signature 1992</td>\n",
       "      <td>10/20/2020</td>\n",
       "      <td>Excellent</td>\n",
       "      <td>7995.0</td>\n",
       "    </tr>\n",
       "    <tr>\n",
       "      <th>3</th>\n",
       "      <td>Rickenbacker 660-12 Tom Petty Signature 1992</td>\n",
       "      <td>9/28/2020</td>\n",
       "      <td>Excellent</td>\n",
       "      <td>5495.0</td>\n",
       "    </tr>\n",
       "    <tr>\n",
       "      <th>4</th>\n",
       "      <td>Rickenbacker 660-12 Tom Petty Signature 1992</td>\n",
       "      <td>5/26/2020</td>\n",
       "      <td>Excellent</td>\n",
       "      <td>5800.0</td>\n",
       "    </tr>\n",
       "  </tbody>\n",
       "</table>\n",
       "</div>"
      ],
      "text/plain": [
       "                                          title        date       cond   price\n",
       "0  Rickenbacker 660-12 Tom Petty Signature 1992   2/23/2021  Excellent  6495.0\n",
       "1  Rickenbacker 660-12 Tom Petty Signature 1992   12/7/2020  Excellent  4325.0\n",
       "2  Rickenbacker 660-12 Tom Petty Signature 1992  10/20/2020  Excellent  7995.0\n",
       "3  Rickenbacker 660-12 Tom Petty Signature 1992   9/28/2020  Excellent  5495.0\n",
       "4  Rickenbacker 660-12 Tom Petty Signature 1992   5/26/2020  Excellent  5800.0"
      ]
     },
     "execution_count": 3,
     "metadata": {},
     "output_type": "execute_result"
    }
   ],
   "source": [
    "sales_df = pd.DataFrame(list(sales_coll.find({},{'_id':0})))\n",
    "print(sales_df.info())\n",
    "sales_df.head()"
   ]
  },
  {
   "cell_type": "code",
   "execution_count": 4,
   "id": "adjacent-deficit",
   "metadata": {},
   "outputs": [
    {
     "name": "stdout",
     "output_type": "stream",
     "text": [
      "<class 'pandas.core.frame.DataFrame'>\n",
      "RangeIndex: 5065 entries, 0 to 5064\n",
      "Data columns (total 3 columns):\n",
      " #   Column  Non-Null Count  Dtype \n",
      "---  ------  --------------  ----- \n",
      " 0   title   5065 non-null   object\n",
      " 1   link    5065 non-null   object\n",
      " 2   html    2994 non-null   object\n",
      "dtypes: object(3)\n",
      "memory usage: 118.8+ KB\n"
     ]
    }
   ],
   "source": [
    "links_df = pd.DataFrame(list(link_coll.find({}, {'_id': 0})))\n",
    "links_df.info()"
   ]
  },
  {
   "cell_type": "code",
   "execution_count": 5,
   "id": "handed-recipe",
   "metadata": {},
   "outputs": [
    {
     "name": "stdout",
     "output_type": "stream",
     "text": [
      "<class 'pandas.core.frame.DataFrame'>\n",
      "RangeIndex: 1644 entries, 0 to 1643\n",
      "Data columns (total 8 columns):\n",
      " #   Column    Non-Null Count  Dtype  \n",
      "---  ------    --------------  -----  \n",
      " 0   title     1644 non-null   object \n",
      " 1   brand     1644 non-null   object \n",
      " 2   model     1644 non-null   object \n",
      " 3   year      1644 non-null   object \n",
      " 4   color     1641 non-null   object \n",
      " 5   est_low   1644 non-null   float64\n",
      " 6   est_high  1644 non-null   float64\n",
      " 7   text      1508 non-null   object \n",
      "dtypes: float64(2), object(6)\n",
      "memory usage: 102.9+ KB\n"
     ]
    }
   ],
   "source": [
    "data_df = pd.DataFrame(list(data_coll.find({}, {'_id': 0})))\n",
    "data_df.info()"
   ]
  },
  {
   "cell_type": "code",
   "execution_count": 6,
   "id": "bronze-symposium",
   "metadata": {
    "tags": []
   },
   "outputs": [
    {
     "name": "stdout",
     "output_type": "stream",
     "text": [
      "https://reverb.com/price-guide/guide/31-rickenbacker-660-12-tom-petty-signature-1992\n",
      "https://reverb.com/price-guide/guide/33-fender-coronado-ii-1968-antigua\n",
      "https://reverb.com/price-guide/guide/38-fender-stratocaster-1958-sunburst\n",
      "https://reverb.com/price-guide/guide/42-fender-stratocaster-1964-sunburst\n",
      "https://reverb.com/price-guide/guide/124-epiphone-zephyr-1944-sunburst\n",
      "https://reverb.com/price-guide/guide/677-fender-esquire-1951-butterscotch-blonde\n",
      "https://reverb.com/price-guide/guide/685-fender-jazzmaster-1960-sunburst\n",
      "https://reverb.com/price-guide/guide/684-fender-jazzmaster-1959-sunburst-tortoise-pickguard\n",
      "https://reverb.com/price-guide/guide/683-fender-jazzmaster-1959-sunburst-with-gold-pickguard\n",
      "https://reverb.com/price-guide/guide/689-fender-jazzmaster-1962-3-tone-sunburst\n"
     ]
    }
   ],
   "source": [
    "for link in list(link_coll.find({'html': {'$exists': True}}))[:10]:\n",
    "    print(link['link'])"
   ]
  },
  {
   "cell_type": "code",
   "execution_count": 7,
   "id": "established-grill",
   "metadata": {},
   "outputs": [
    {
     "data": {
      "text/plain": [
       "\"Airline|American Showster|Ampeg|Aria|B.C. Rich|B3|BC Rich|Baldwin|Bilt|Bogner|Burns|Campbell|Charvel|Collings|Conrad|Cort|D'Angelico|Danelectro|DeArmond|Dean|DiPinto|Dobro|Duesenberg|EKO|ESP|EVH|Eastman|Eastwood|Electra|Epiphone|Ernie Ball Music Man|Fano|Fender|Framus|G&L|Gibson|Giffin|Godin|Goya|Gretsch|Grosh|Guild|Guyatone|Hagstrom|Hamer|Harden Engineering|Harmony|Heritage|Hofner|Hohner|Ibanez|Intermark|Jackson|James Trussart|Jerry Jones|Kalamazoo|Kay|Kimberly|Kramer|La Baye|Larrivee|Line 6|MCI|Magnatone|Martin|Memphis|Micro-Frets|Moog|Mosrite|Music Man|Musicraft|Musicvox|Nash|National|Norma|Orville|Ovation|Parker|Paul Reed Smith|Peavey|Premier|Reverend|Rickenbacker|Roland|SWR|Schecter|Silvertone|Sorrento|Squier|Steinberger|Suhr|Supro|Taylor|Teisco|The Loar|Tokai|Tom Anderson|Travis|Truetone|Two Rock|Univox|Vox|Washburn|Yamaha\""
      ]
     },
     "execution_count": 7,
     "metadata": {},
     "output_type": "execute_result"
    }
   ],
   "source": [
    "'|'.join(brands)"
   ]
  },
  {
   "cell_type": "code",
   "execution_count": 12,
   "id": "steady-rescue",
   "metadata": {},
   "outputs": [
    {
     "name": "stderr",
     "output_type": "stream",
     "text": [
      "100%|██████████| 2991/2991 [01:33<00:00, 32.05it/s]\n"
     ]
    }
   ],
   "source": [
    "# This works 100% here but fails on the title \"Kalamazoo KG-2a 1960s Blue\" in a terminal-run python script. Not sure why\n",
    "\n",
    "def process_documents():\n",
    "    regex = \")(?:(?:(.+)((?:Early|Mid|Late)-?\\s?'?\\d+s|\" \\\n",
    "            \"\\d{4}\\s?-\\s?\\d{4})(.*))|\" \\\n",
    "            \"(?:(.+)(\\d{4}s?)(.*))|\" \\\n",
    "            \"(?:(.+)(\\d{2}s?)(.*)))$\"\n",
    "    regex = r\"(\" + '|'.join(brands) + regex\n",
    "\n",
    "    docs = list(link_coll.find({'html': {'$exists': True}}))\n",
    "\n",
    "    for document in tqdm(docs):\n",
    "        title = document['title']\n",
    "        html = document.pop('html')\n",
    "        new_doc = {'title': title}\n",
    "\n",
    "        # Parse Title\n",
    "        groups = re.match(regex, title, re.IGNORECASE).groups()\n",
    "        feats = [g.strip() if g else None for g in groups if g is not None]\n",
    "        new_doc.update({k: feats[i] for i, k in enumerate(['brand', 'model', 'year', 'color'])})\n",
    "\n",
    "        # Scrape html\n",
    "        soup = hot_soup(html)\n",
    "\n",
    "        reverb_price_range = soup.find_all('span', class_='used')\n",
    "        est_low, est_high = (price_to_float(s.text) for s in reverb_price_range)\n",
    "        new_doc['est_low'] = est_low\n",
    "        new_doc['est_high'] = est_high\n",
    "\n",
    "        text_section = soup.find('section', class_='scaling-pb-2')\n",
    "        if text_section:\n",
    "            text = text_section.p.get_text(separator='|')\n",
    "            text = unicodedata.normalize('NFKD', text)\n",
    "            new_doc['text'] = text\n",
    "        else:\n",
    "            new_doc['text'] = None\n",
    "\n",
    "        data_coll.insert_one(new_doc)\n",
    "\n",
    "# process_documents()"
   ]
  },
  {
   "cell_type": "code",
   "execution_count": 17,
   "id": "trained-editor",
   "metadata": {},
   "outputs": [],
   "source": []
  },
  {
   "cell_type": "code",
   "execution_count": 11,
   "id": "damaged-tuner",
   "metadata": {
    "tags": []
   },
   "outputs": [],
   "source": [
    "# conn = pg2.connect(dbname='reverb', host='192.168.0.209', password='galvanize', user='postgres')\n",
    "# cur = conn.cursor()\n",
    "# conn.autocommit = True\n",
    "# cur.execute(\"\"\"CREATE TABLE guitars(\n",
    "#                id INT PRIMARY KEY GENERATED ALWAYS AS IDENTITY,\n",
    "#                title VARCHAR(225),\n",
    "#                date_str VARCHAR(12),\n",
    "#                cond VARCHAR(12),\n",
    "#                sale_price NUMERIC\n",
    "#            );\"\"\")\n",
    "# conn.close()"
   ]
  }
 ],
 "metadata": {
  "kernelspec": {
   "display_name": "Python 3",
   "language": "python",
   "name": "python3"
  },
  "language_info": {
   "codemirror_mode": {
    "name": "ipython",
    "version": 3
   },
   "file_extension": ".py",
   "mimetype": "text/x-python",
   "name": "python",
   "nbconvert_exporter": "python",
   "pygments_lexer": "ipython3",
   "version": "3.8.8"
  }
 },
 "nbformat": 4,
 "nbformat_minor": 5
}
