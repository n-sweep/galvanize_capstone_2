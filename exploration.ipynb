{
 "cells": [
  {
   "cell_type": "code",
   "execution_count": 1,
   "id": "d6c96c84",
   "metadata": {},
   "outputs": [],
   "source": [
    "import math\n",
    "import numpy as np\n",
    "import pandas as pd\n",
    "import pickle as pkl\n",
    "import matplotlib.pyplot as plt\n",
    "from pymongo import MongoClient\n",
    "from sklearn.model_selection import train_test_split, cross_val_score, GridSearchCV\n",
    "from sklearn.ensemble import RandomForestRegressor\n",
    "from sklearn.inspection import permutation_importance, plot_partial_dependence, partial_dependence\n",
    "from sklearn.metrics import mean_squared_error, mean_absolute_error, mean_absolute_percentage_error\n",
    "\n",
    "client = MongoClient('192.168.0.209', 27017)\n",
    "db = client['reverb']\n",
    "sales_coll = db['sales']\n",
    "data_coll = db['data']\n",
    "link_coll = db['links']\n"
   ]
  },
  {
   "cell_type": "code",
   "execution_count": 2,
   "id": "200664ea",
   "metadata": {},
   "outputs": [],
   "source": [
    "data_df = pd.DataFrame(list(data_coll.find({},{'_id':0})))\n",
    "sales_df = pd.DataFrame(list(sales_coll.find({},{'_id':0})))\n",
    "sales_df['date'] = pd.to_datetime(sales_df['date'], format='%m/%d/%Y')"
   ]
  },
  {
   "cell_type": "code",
   "execution_count": 3,
   "id": "3d46f0d2",
   "metadata": {},
   "outputs": [
    {
     "name": "stdout",
     "output_type": "stream",
     "text": [
      "<class 'pandas.core.frame.DataFrame'>\n",
      "RangeIndex: 2989 entries, 0 to 2988\n",
      "Data columns (total 8 columns):\n",
      " #   Column    Non-Null Count  Dtype  \n",
      "---  ------    --------------  -----  \n",
      " 0   title     2989 non-null   object \n",
      " 1   brand     2989 non-null   object \n",
      " 2   model     2989 non-null   object \n",
      " 3   year      2989 non-null   object \n",
      " 4   color     2978 non-null   object \n",
      " 5   est_low   2989 non-null   float64\n",
      " 6   est_high  2989 non-null   float64\n",
      " 7   text      2823 non-null   object \n",
      "dtypes: float64(2), object(6)\n",
      "memory usage: 186.9+ KB\n",
      "None\n"
     ]
    },
    {
     "data": {
      "text/html": [
       "<div>\n",
       "<style scoped>\n",
       "    .dataframe tbody tr th:only-of-type {\n",
       "        vertical-align: middle;\n",
       "    }\n",
       "\n",
       "    .dataframe tbody tr th {\n",
       "        vertical-align: top;\n",
       "    }\n",
       "\n",
       "    .dataframe thead th {\n",
       "        text-align: right;\n",
       "    }\n",
       "</style>\n",
       "<table border=\"1\" class=\"dataframe\">\n",
       "  <thead>\n",
       "    <tr style=\"text-align: right;\">\n",
       "      <th></th>\n",
       "      <th>title</th>\n",
       "      <th>brand</th>\n",
       "      <th>model</th>\n",
       "      <th>year</th>\n",
       "      <th>color</th>\n",
       "      <th>est_low</th>\n",
       "      <th>est_high</th>\n",
       "      <th>text</th>\n",
       "    </tr>\n",
       "  </thead>\n",
       "  <tbody>\n",
       "    <tr>\n",
       "      <th>0</th>\n",
       "      <td>Rickenbacker 660-12 Tom Petty Signature 1992</td>\n",
       "      <td>Rickenbacker</td>\n",
       "      <td>660-12 Tom Petty Signature</td>\n",
       "      <td>1992</td>\n",
       "      <td>None</td>\n",
       "      <td>4125.0</td>\n",
       "      <td>6260.0</td>\n",
       "      <td>Built to the specifications of Tom Petty, this...</td>\n",
       "    </tr>\n",
       "    <tr>\n",
       "      <th>1</th>\n",
       "      <td>Fender Coronado II 1968 Antigua</td>\n",
       "      <td>Fender</td>\n",
       "      <td>Coronado II</td>\n",
       "      <td>1968</td>\n",
       "      <td>Antigua</td>\n",
       "      <td>1450.0</td>\n",
       "      <td>2235.0</td>\n",
       "      <td>Designed by Roger Rossmeisl who came onto Fend...</td>\n",
       "    </tr>\n",
       "    <tr>\n",
       "      <th>2</th>\n",
       "      <td>Fender Stratocaster 1958 Sunburst</td>\n",
       "      <td>Fender</td>\n",
       "      <td>Stratocaster</td>\n",
       "      <td>1958</td>\n",
       "      <td>Sunburst</td>\n",
       "      <td>15635.0</td>\n",
       "      <td>20220.0</td>\n",
       "      <td>Building on the success of the first few years...</td>\n",
       "    </tr>\n",
       "    <tr>\n",
       "      <th>3</th>\n",
       "      <td>Fender Stratocaster 1964 Sunburst</td>\n",
       "      <td>Fender</td>\n",
       "      <td>Stratocaster</td>\n",
       "      <td>1964</td>\n",
       "      <td>Sunburst</td>\n",
       "      <td>9800.0</td>\n",
       "      <td>18335.0</td>\n",
       "      <td>For many collectors, 1964 was an absolute peak...</td>\n",
       "    </tr>\n",
       "    <tr>\n",
       "      <th>4</th>\n",
       "      <td>Epiphone Zephyr 1944 Sunburst</td>\n",
       "      <td>Epiphone</td>\n",
       "      <td>Zephyr</td>\n",
       "      <td>1944</td>\n",
       "      <td>Sunburst</td>\n",
       "      <td>1100.0</td>\n",
       "      <td>1600.0</td>\n",
       "      <td>The Zephyr was an early electric archtop desig...</td>\n",
       "    </tr>\n",
       "  </tbody>\n",
       "</table>\n",
       "</div>"
      ],
      "text/plain": [
       "                                          title         brand  \\\n",
       "0  Rickenbacker 660-12 Tom Petty Signature 1992  Rickenbacker   \n",
       "1               Fender Coronado II 1968 Antigua        Fender   \n",
       "2             Fender Stratocaster 1958 Sunburst        Fender   \n",
       "3             Fender Stratocaster 1964 Sunburst        Fender   \n",
       "4                 Epiphone Zephyr 1944 Sunburst      Epiphone   \n",
       "\n",
       "                        model  year     color  est_low  est_high  \\\n",
       "0  660-12 Tom Petty Signature  1992      None   4125.0    6260.0   \n",
       "1                 Coronado II  1968   Antigua   1450.0    2235.0   \n",
       "2                Stratocaster  1958  Sunburst  15635.0   20220.0   \n",
       "3                Stratocaster  1964  Sunburst   9800.0   18335.0   \n",
       "4                      Zephyr  1944  Sunburst   1100.0    1600.0   \n",
       "\n",
       "                                                text  \n",
       "0  Built to the specifications of Tom Petty, this...  \n",
       "1  Designed by Roger Rossmeisl who came onto Fend...  \n",
       "2  Building on the success of the first few years...  \n",
       "3  For many collectors, 1964 was an absolute peak...  \n",
       "4  The Zephyr was an early electric archtop desig...  "
      ]
     },
     "execution_count": 3,
     "metadata": {},
     "output_type": "execute_result"
    }
   ],
   "source": [
    "print(data_df.info())\n",
    "data_df.head()"
   ]
  },
  {
   "cell_type": "code",
   "execution_count": 4,
   "id": "15f34955",
   "metadata": {},
   "outputs": [
    {
     "name": "stdout",
     "output_type": "stream",
     "text": [
      "<class 'pandas.core.frame.DataFrame'>\n",
      "RangeIndex: 145324 entries, 0 to 145323\n",
      "Data columns (total 4 columns):\n",
      " #   Column  Non-Null Count   Dtype         \n",
      "---  ------  --------------   -----         \n",
      " 0   title   145324 non-null  object        \n",
      " 1   date    145324 non-null  datetime64[ns]\n",
      " 2   cond    145324 non-null  object        \n",
      " 3   price   145324 non-null  float64       \n",
      "dtypes: datetime64[ns](1), float64(1), object(2)\n",
      "memory usage: 4.4+ MB\n",
      "None\n"
     ]
    },
    {
     "data": {
      "text/html": [
       "<div>\n",
       "<style scoped>\n",
       "    .dataframe tbody tr th:only-of-type {\n",
       "        vertical-align: middle;\n",
       "    }\n",
       "\n",
       "    .dataframe tbody tr th {\n",
       "        vertical-align: top;\n",
       "    }\n",
       "\n",
       "    .dataframe thead th {\n",
       "        text-align: right;\n",
       "    }\n",
       "</style>\n",
       "<table border=\"1\" class=\"dataframe\">\n",
       "  <thead>\n",
       "    <tr style=\"text-align: right;\">\n",
       "      <th></th>\n",
       "      <th>title</th>\n",
       "      <th>date</th>\n",
       "      <th>cond</th>\n",
       "      <th>price</th>\n",
       "    </tr>\n",
       "  </thead>\n",
       "  <tbody>\n",
       "    <tr>\n",
       "      <th>0</th>\n",
       "      <td>Rickenbacker 660-12 Tom Petty Signature 1992</td>\n",
       "      <td>2021-02-23</td>\n",
       "      <td>Excellent</td>\n",
       "      <td>6495.0</td>\n",
       "    </tr>\n",
       "    <tr>\n",
       "      <th>1</th>\n",
       "      <td>Rickenbacker 660-12 Tom Petty Signature 1992</td>\n",
       "      <td>2020-12-07</td>\n",
       "      <td>Excellent</td>\n",
       "      <td>4325.0</td>\n",
       "    </tr>\n",
       "    <tr>\n",
       "      <th>2</th>\n",
       "      <td>Rickenbacker 660-12 Tom Petty Signature 1992</td>\n",
       "      <td>2020-10-20</td>\n",
       "      <td>Excellent</td>\n",
       "      <td>7995.0</td>\n",
       "    </tr>\n",
       "    <tr>\n",
       "      <th>3</th>\n",
       "      <td>Rickenbacker 660-12 Tom Petty Signature 1992</td>\n",
       "      <td>2020-09-28</td>\n",
       "      <td>Excellent</td>\n",
       "      <td>5495.0</td>\n",
       "    </tr>\n",
       "    <tr>\n",
       "      <th>4</th>\n",
       "      <td>Rickenbacker 660-12 Tom Petty Signature 1992</td>\n",
       "      <td>2020-05-26</td>\n",
       "      <td>Excellent</td>\n",
       "      <td>5800.0</td>\n",
       "    </tr>\n",
       "  </tbody>\n",
       "</table>\n",
       "</div>"
      ],
      "text/plain": [
       "                                          title       date       cond   price\n",
       "0  Rickenbacker 660-12 Tom Petty Signature 1992 2021-02-23  Excellent  6495.0\n",
       "1  Rickenbacker 660-12 Tom Petty Signature 1992 2020-12-07  Excellent  4325.0\n",
       "2  Rickenbacker 660-12 Tom Petty Signature 1992 2020-10-20  Excellent  7995.0\n",
       "3  Rickenbacker 660-12 Tom Petty Signature 1992 2020-09-28  Excellent  5495.0\n",
       "4  Rickenbacker 660-12 Tom Petty Signature 1992 2020-05-26  Excellent  5800.0"
      ]
     },
     "execution_count": 4,
     "metadata": {},
     "output_type": "execute_result"
    }
   ],
   "source": [
    "print(sales_df.info())\n",
    "sales_df.head()"
   ]
  },
  {
   "cell_type": "code",
   "execution_count": 5,
   "id": "15b31302",
   "metadata": {},
   "outputs": [
    {
     "data": {
      "text/html": [
       "<div>\n",
       "<style scoped>\n",
       "    .dataframe tbody tr th:only-of-type {\n",
       "        vertical-align: middle;\n",
       "    }\n",
       "\n",
       "    .dataframe tbody tr th {\n",
       "        vertical-align: top;\n",
       "    }\n",
       "\n",
       "    .dataframe thead th {\n",
       "        text-align: right;\n",
       "    }\n",
       "</style>\n",
       "<table border=\"1\" class=\"dataframe\">\n",
       "  <thead>\n",
       "    <tr style=\"text-align: right;\">\n",
       "      <th></th>\n",
       "      <th>title</th>\n",
       "      <th>brand</th>\n",
       "      <th>model</th>\n",
       "      <th>year</th>\n",
       "      <th>color</th>\n",
       "      <th>est_low</th>\n",
       "      <th>est_high</th>\n",
       "      <th>text</th>\n",
       "      <th>mean_sale</th>\n",
       "      <th>num_records</th>\n",
       "    </tr>\n",
       "  </thead>\n",
       "  <tbody>\n",
       "    <tr>\n",
       "      <th>0</th>\n",
       "      <td>Rickenbacker 660-12 Tom Petty Signature 1992</td>\n",
       "      <td>Rickenbacker</td>\n",
       "      <td>660-12 Tom Petty Signature</td>\n",
       "      <td>1992</td>\n",
       "      <td>None</td>\n",
       "      <td>4125.0</td>\n",
       "      <td>6260.0</td>\n",
       "      <td>Built to the specifications of Tom Petty, this...</td>\n",
       "      <td>4212.41</td>\n",
       "      <td>54</td>\n",
       "    </tr>\n",
       "    <tr>\n",
       "      <th>1</th>\n",
       "      <td>Fender Coronado II 1968 Antigua</td>\n",
       "      <td>Fender</td>\n",
       "      <td>Coronado II</td>\n",
       "      <td>1968</td>\n",
       "      <td>Antigua</td>\n",
       "      <td>1450.0</td>\n",
       "      <td>2235.0</td>\n",
       "      <td>Designed by Roger Rossmeisl who came onto Fend...</td>\n",
       "      <td>2096.55</td>\n",
       "      <td>56</td>\n",
       "    </tr>\n",
       "    <tr>\n",
       "      <th>2</th>\n",
       "      <td>Fender Stratocaster 1958 Sunburst</td>\n",
       "      <td>Fender</td>\n",
       "      <td>Stratocaster</td>\n",
       "      <td>1958</td>\n",
       "      <td>Sunburst</td>\n",
       "      <td>15635.0</td>\n",
       "      <td>20220.0</td>\n",
       "      <td>Building on the success of the first few years...</td>\n",
       "      <td>19348.32</td>\n",
       "      <td>16</td>\n",
       "    </tr>\n",
       "    <tr>\n",
       "      <th>3</th>\n",
       "      <td>Fender Stratocaster 1964 Sunburst</td>\n",
       "      <td>Fender</td>\n",
       "      <td>Stratocaster</td>\n",
       "      <td>1964</td>\n",
       "      <td>Sunburst</td>\n",
       "      <td>9800.0</td>\n",
       "      <td>18335.0</td>\n",
       "      <td>For many collectors, 1964 was an absolute peak...</td>\n",
       "      <td>12714.49</td>\n",
       "      <td>59</td>\n",
       "    </tr>\n",
       "    <tr>\n",
       "      <th>4</th>\n",
       "      <td>Epiphone Zephyr 1944 Sunburst</td>\n",
       "      <td>Epiphone</td>\n",
       "      <td>Zephyr</td>\n",
       "      <td>1944</td>\n",
       "      <td>Sunburst</td>\n",
       "      <td>1100.0</td>\n",
       "      <td>1600.0</td>\n",
       "      <td>The Zephyr was an early electric archtop desig...</td>\n",
       "      <td>1103.12</td>\n",
       "      <td>8</td>\n",
       "    </tr>\n",
       "  </tbody>\n",
       "</table>\n",
       "</div>"
      ],
      "text/plain": [
       "                                          title         brand  \\\n",
       "0  Rickenbacker 660-12 Tom Petty Signature 1992  Rickenbacker   \n",
       "1               Fender Coronado II 1968 Antigua        Fender   \n",
       "2             Fender Stratocaster 1958 Sunburst        Fender   \n",
       "3             Fender Stratocaster 1964 Sunburst        Fender   \n",
       "4                 Epiphone Zephyr 1944 Sunburst      Epiphone   \n",
       "\n",
       "                        model  year     color  est_low  est_high  \\\n",
       "0  660-12 Tom Petty Signature  1992      None   4125.0    6260.0   \n",
       "1                 Coronado II  1968   Antigua   1450.0    2235.0   \n",
       "2                Stratocaster  1958  Sunburst  15635.0   20220.0   \n",
       "3                Stratocaster  1964  Sunburst   9800.0   18335.0   \n",
       "4                      Zephyr  1944  Sunburst   1100.0    1600.0   \n",
       "\n",
       "                                                text  mean_sale  num_records  \n",
       "0  Built to the specifications of Tom Petty, this...    4212.41           54  \n",
       "1  Designed by Roger Rossmeisl who came onto Fend...    2096.55           56  \n",
       "2  Building on the success of the first few years...   19348.32           16  \n",
       "3  For many collectors, 1964 was an absolute peak...   12714.49           59  \n",
       "4  The Zephyr was an early electric archtop desig...    1103.12            8  "
      ]
     },
     "execution_count": 5,
     "metadata": {},
     "output_type": "execute_result"
    }
   ],
   "source": [
    "sales = sales_df.groupby('title').mean().round(2)\n",
    "records = sales_df.value_counts('title').to_frame()\n",
    "data_df = data_df.merge(sales.rename(columns={'price': 'mean_sale'}), on='title')\n",
    "data_df = data_df.merge(records.rename(columns={0: 'num_records'}), on='title')\n",
    "data_df.head()"
   ]
  },
  {
   "cell_type": "raw",
   "id": "08017955",
   "metadata": {},
   "source": [
    "Some years are ranges such as \"Early '70s\" or \"1938-1943\"\n",
    "Here I use averages to transform these strings into int-able year values\n",
    "\n",
    "Maybe dropping all these entries is a better choice? Maybe will try that once we have a working model"
   ]
  },
  {
   "cell_type": "code",
   "execution_count": 6,
   "id": "6e6fbafa",
   "metadata": {},
   "outputs": [],
   "source": [
    "int_years = pd.Series([int(year) for year in data_df['year'] if year.isdigit()])\n",
    "\n",
    "# For years that include 'early', 'mid' or 'late' we'll choose a year at random\n",
    "eml_dict = {\n",
    "    'early': (0, 4),\n",
    "    'mid': (4, 7),\n",
    "    'late': (7, 10)\n",
    "}\n",
    "\n",
    "def year_to_int(year):\n",
    "    # If the year is already a digit, we're done\n",
    "    if year.isdigit():\n",
    "        return int(year)\n",
    "    \n",
    "    # Check for \"early\"/\"mid\"/\"late\" and build year integer accordingly\n",
    "    # \"Early 70s\" becomes a random year between 1970 and 1973 \n",
    "    for eml, nums in eml_dict.items():\n",
    "        if eml in year:\n",
    "            year = year.strip('s').replace(\"'\", '').replace('-', ' ').split()[1]\n",
    "            year = int('19' + year if len(year) < 4 else year)\n",
    "            year += np.random.randint(*eml_dict[eml])\n",
    "            return year\n",
    "    \n",
    "    if '-' in year: # Here we find date ranges such as \"1938-1943\"\n",
    "        splt = year.split('-')\n",
    "        low = int(splt[0])\n",
    "        high = int(splt[1])\n",
    "        \n",
    "    else:  # Here we find 2-digit year strings such as \"60s\"\n",
    "        # Add 19 if only decade is included\n",
    "        base = '19' + year if len(year) < 4 else year\n",
    "        # Remove apostrophes and pluralisations\n",
    "        base = base.replace(\"'\", '').strip('s')\n",
    "        low = int(base)\n",
    "        high = low + 9\n",
    "    \n",
    "    # Find average year of all guitars from date range already stored\n",
    "    avg = round(int_years[(int_years >= low) & (int_years <= high)].mean())\n",
    "    return avg\n",
    "    print(year)\n"
   ]
  },
  {
   "cell_type": "code",
   "execution_count": 7,
   "id": "ea109196",
   "metadata": {},
   "outputs": [],
   "source": [
    "data_df['year_str'] = data_df['year']\n",
    "data_df['year'] = data_df['year'].apply(year_to_int)"
   ]
  },
  {
   "cell_type": "code",
   "execution_count": 8,
   "id": "1d078072",
   "metadata": {
    "tags": []
   },
   "outputs": [
    {
     "name": "stdout",
     "output_type": "stream",
     "text": [
      "<class 'pandas.core.frame.DataFrame'>\n",
      "Int64Index: 145161 entries, 0 to 145160\n",
      "Data columns (total 15 columns):\n",
      " #   Column       Non-Null Count   Dtype         \n",
      "---  ------       --------------   -----         \n",
      " 0   title        145161 non-null  object        \n",
      " 1   brand        145161 non-null  object        \n",
      " 2   model        145161 non-null  object        \n",
      " 3   year         145161 non-null  int64         \n",
      " 4   color        143961 non-null  object        \n",
      " 5   est_low      145161 non-null  float64       \n",
      " 6   est_high     145161 non-null  float64       \n",
      " 7   text         139077 non-null  object        \n",
      " 8   mean_sale    145161 non-null  float64       \n",
      " 9   num_records  145161 non-null  int64         \n",
      " 10  year_str     145161 non-null  object        \n",
      " 11  date         145161 non-null  datetime64[ns]\n",
      " 12  cond         145161 non-null  object        \n",
      " 13  price        145161 non-null  float64       \n",
      " 14  age_at_sale  145161 non-null  int64         \n",
      "dtypes: datetime64[ns](1), float64(4), int64(3), object(7)\n",
      "memory usage: 17.7+ MB\n",
      "None\n",
      "                year        est_low       est_high      mean_sale  \\\n",
      "count  145161.000000  145161.000000  145161.000000  145161.000000   \n",
      "mean     2000.983019    1130.920943    1663.768781    1274.693160   \n",
      "std        16.899842    1802.959912    2877.576920    2304.632499   \n",
      "min      1936.000000      60.000000     110.000000      71.760000   \n",
      "25%      1996.000000     425.000000     610.000000     477.530000   \n",
      "50%      2011.000000     755.000000    1070.000000     834.320000   \n",
      "75%      2012.000000    1400.000000    1945.000000    1542.230000   \n",
      "max      2016.000000  140000.000000  240000.000000  215965.180000   \n",
      "\n",
      "         num_records          price    age_at_sale  \n",
      "count  145161.000000  145161.000000  145161.000000  \n",
      "mean      200.230868    1274.693174      16.889233  \n",
      "std       206.101879    2517.148663      16.868197  \n",
      "min         1.000000       0.500000      -2.000000  \n",
      "25%        54.000000     450.000000       6.000000  \n",
      "50%       124.000000     800.000000       8.000000  \n",
      "75%       280.000000    1500.000000      22.000000  \n",
      "max      1082.000000  349993.000000      84.000000  \n"
     ]
    },
    {
     "data": {
      "text/html": [
       "<div>\n",
       "<style scoped>\n",
       "    .dataframe tbody tr th:only-of-type {\n",
       "        vertical-align: middle;\n",
       "    }\n",
       "\n",
       "    .dataframe tbody tr th {\n",
       "        vertical-align: top;\n",
       "    }\n",
       "\n",
       "    .dataframe thead th {\n",
       "        text-align: right;\n",
       "    }\n",
       "</style>\n",
       "<table border=\"1\" class=\"dataframe\">\n",
       "  <thead>\n",
       "    <tr style=\"text-align: right;\">\n",
       "      <th></th>\n",
       "      <th>title</th>\n",
       "      <th>brand</th>\n",
       "      <th>model</th>\n",
       "      <th>year</th>\n",
       "      <th>color</th>\n",
       "      <th>est_low</th>\n",
       "      <th>est_high</th>\n",
       "      <th>text</th>\n",
       "      <th>mean_sale</th>\n",
       "      <th>num_records</th>\n",
       "      <th>year_str</th>\n",
       "      <th>date</th>\n",
       "      <th>cond</th>\n",
       "      <th>price</th>\n",
       "      <th>age_at_sale</th>\n",
       "    </tr>\n",
       "  </thead>\n",
       "  <tbody>\n",
       "    <tr>\n",
       "      <th>0</th>\n",
       "      <td>Rickenbacker 660-12 Tom Petty Signature 1992</td>\n",
       "      <td>Rickenbacker</td>\n",
       "      <td>660-12 Tom Petty Signature</td>\n",
       "      <td>1992</td>\n",
       "      <td>None</td>\n",
       "      <td>4125.0</td>\n",
       "      <td>6260.0</td>\n",
       "      <td>Built to the specifications of Tom Petty, this...</td>\n",
       "      <td>4212.41</td>\n",
       "      <td>54</td>\n",
       "      <td>1992</td>\n",
       "      <td>2021-02-23</td>\n",
       "      <td>Excellent</td>\n",
       "      <td>6495.0</td>\n",
       "      <td>29</td>\n",
       "    </tr>\n",
       "    <tr>\n",
       "      <th>1</th>\n",
       "      <td>Rickenbacker 660-12 Tom Petty Signature 1992</td>\n",
       "      <td>Rickenbacker</td>\n",
       "      <td>660-12 Tom Petty Signature</td>\n",
       "      <td>1992</td>\n",
       "      <td>None</td>\n",
       "      <td>4125.0</td>\n",
       "      <td>6260.0</td>\n",
       "      <td>Built to the specifications of Tom Petty, this...</td>\n",
       "      <td>4212.41</td>\n",
       "      <td>54</td>\n",
       "      <td>1992</td>\n",
       "      <td>2020-12-07</td>\n",
       "      <td>Excellent</td>\n",
       "      <td>4325.0</td>\n",
       "      <td>28</td>\n",
       "    </tr>\n",
       "    <tr>\n",
       "      <th>2</th>\n",
       "      <td>Rickenbacker 660-12 Tom Petty Signature 1992</td>\n",
       "      <td>Rickenbacker</td>\n",
       "      <td>660-12 Tom Petty Signature</td>\n",
       "      <td>1992</td>\n",
       "      <td>None</td>\n",
       "      <td>4125.0</td>\n",
       "      <td>6260.0</td>\n",
       "      <td>Built to the specifications of Tom Petty, this...</td>\n",
       "      <td>4212.41</td>\n",
       "      <td>54</td>\n",
       "      <td>1992</td>\n",
       "      <td>2020-10-20</td>\n",
       "      <td>Excellent</td>\n",
       "      <td>7995.0</td>\n",
       "      <td>28</td>\n",
       "    </tr>\n",
       "    <tr>\n",
       "      <th>3</th>\n",
       "      <td>Rickenbacker 660-12 Tom Petty Signature 1992</td>\n",
       "      <td>Rickenbacker</td>\n",
       "      <td>660-12 Tom Petty Signature</td>\n",
       "      <td>1992</td>\n",
       "      <td>None</td>\n",
       "      <td>4125.0</td>\n",
       "      <td>6260.0</td>\n",
       "      <td>Built to the specifications of Tom Petty, this...</td>\n",
       "      <td>4212.41</td>\n",
       "      <td>54</td>\n",
       "      <td>1992</td>\n",
       "      <td>2020-09-28</td>\n",
       "      <td>Excellent</td>\n",
       "      <td>5495.0</td>\n",
       "      <td>28</td>\n",
       "    </tr>\n",
       "    <tr>\n",
       "      <th>4</th>\n",
       "      <td>Rickenbacker 660-12 Tom Petty Signature 1992</td>\n",
       "      <td>Rickenbacker</td>\n",
       "      <td>660-12 Tom Petty Signature</td>\n",
       "      <td>1992</td>\n",
       "      <td>None</td>\n",
       "      <td>4125.0</td>\n",
       "      <td>6260.0</td>\n",
       "      <td>Built to the specifications of Tom Petty, this...</td>\n",
       "      <td>4212.41</td>\n",
       "      <td>54</td>\n",
       "      <td>1992</td>\n",
       "      <td>2020-05-26</td>\n",
       "      <td>Excellent</td>\n",
       "      <td>5800.0</td>\n",
       "      <td>28</td>\n",
       "    </tr>\n",
       "  </tbody>\n",
       "</table>\n",
       "</div>"
      ],
      "text/plain": [
       "                                          title         brand  \\\n",
       "0  Rickenbacker 660-12 Tom Petty Signature 1992  Rickenbacker   \n",
       "1  Rickenbacker 660-12 Tom Petty Signature 1992  Rickenbacker   \n",
       "2  Rickenbacker 660-12 Tom Petty Signature 1992  Rickenbacker   \n",
       "3  Rickenbacker 660-12 Tom Petty Signature 1992  Rickenbacker   \n",
       "4  Rickenbacker 660-12 Tom Petty Signature 1992  Rickenbacker   \n",
       "\n",
       "                        model  year color  est_low  est_high  \\\n",
       "0  660-12 Tom Petty Signature  1992  None   4125.0    6260.0   \n",
       "1  660-12 Tom Petty Signature  1992  None   4125.0    6260.0   \n",
       "2  660-12 Tom Petty Signature  1992  None   4125.0    6260.0   \n",
       "3  660-12 Tom Petty Signature  1992  None   4125.0    6260.0   \n",
       "4  660-12 Tom Petty Signature  1992  None   4125.0    6260.0   \n",
       "\n",
       "                                                text  mean_sale  num_records  \\\n",
       "0  Built to the specifications of Tom Petty, this...    4212.41           54   \n",
       "1  Built to the specifications of Tom Petty, this...    4212.41           54   \n",
       "2  Built to the specifications of Tom Petty, this...    4212.41           54   \n",
       "3  Built to the specifications of Tom Petty, this...    4212.41           54   \n",
       "4  Built to the specifications of Tom Petty, this...    4212.41           54   \n",
       "\n",
       "  year_str       date       cond   price  age_at_sale  \n",
       "0     1992 2021-02-23  Excellent  6495.0           29  \n",
       "1     1992 2020-12-07  Excellent  4325.0           28  \n",
       "2     1992 2020-10-20  Excellent  7995.0           28  \n",
       "3     1992 2020-09-28  Excellent  5495.0           28  \n",
       "4     1992 2020-05-26  Excellent  5800.0           28  "
      ]
     },
     "execution_count": 8,
     "metadata": {},
     "output_type": "execute_result"
    }
   ],
   "source": [
    "merge_df = data_df.merge(sales_df, on='title')\n",
    "# merge_df = data_df[data_df['year_str'].apply(lambda x: x.isdigit())].merge(sales_df, on='title')  # Uncomment to remove guitars with year ranges\n",
    "merge_df['age_at_sale'] = merge_df['date'].apply(lambda x: x.year) - merge_df['year']  # Create 'age_at_sale' column\n",
    "#merge_df.dropna(axis=0, subset=['color'],  inplace=True)\n",
    "print(merge_df.info())\n",
    "print(merge_df.describe())\n",
    "merge_df.head()"
   ]
  },
  {
   "cell_type": "code",
   "execution_count": 64,
   "id": "86d93bf4",
   "metadata": {
    "tags": []
   },
   "outputs": [
    {
     "data": {
      "text/plain": [
       "Text(0, 0.5, 'Record Count')"
      ]
     },
     "execution_count": 64,
     "metadata": {},
     "output_type": "execute_result"
    },
    {
     "data": {
      "image/png": "[encoded data removed]",
      "text/plain": [
       "<Figure size 1152x576 with 1 Axes>"
      ]
     },
     "metadata": {
      "needs_background": "light"
     },
     "output_type": "display_data"
    }
   ],
   "source": [
    "fig, ax = plt.subplots(figsize=(16,8))\n",
    "merge_df['brand'].value_counts()[:25].plot(kind='bar', ax=ax)\n",
    "title_font = {'size': 16}\n",
    "label_font = {'size': 12}\n",
    "ax.set_title('Sales Records per Brand', fontdict=title_font)\n",
    "ax.set_xlabel('Brand', fontdict=label_font)\n",
    "ax.set_ylabel('Record Count', fontdict=label_font)"
   ]
  },
  {
   "cell_type": "code",
   "execution_count": 10,
   "id": "f4cc349d",
   "metadata": {},
   "outputs": [
    {
     "data": {
      "text/plain": [
       "Text(0, 0.5, 'Mean Sale Amt')"
      ]
     },
     "execution_count": 10,
     "metadata": {},
     "output_type": "execute_result"
    },
    {
     "data": {
      "image/png": "[encoded data removed]",
      "text/plain": [
       "<Figure size 1440x576 with 1 Axes>"
      ]
     },
     "metadata": {
      "needs_background": "light"
     },
     "output_type": "display_data"
    }
   ],
   "source": [
    "fig, ax = plt.subplots(figsize=(20,8))\n",
    "mean_sales_by_brand = data_df.groupby('brand')['mean_sale'].mean().sort_values(ascending=False)[:10]\n",
    "mean_sales_by_brand.plot(x='brand', y='mean_sale', kind='bar', ax=ax)\n",
    "ax.set_title('Mean Sale Amt by Brand')\n",
    "ax.set_xlabel('Brand')\n",
    "ax.set_ylabel('Mean Sale Amt')\n"
   ]
  },
  {
   "cell_type": "code",
   "execution_count": 11,
   "id": "736b7246",
   "metadata": {},
   "outputs": [
    {
     "data": {
      "text/plain": [
       "Text(0, 0.5, 'Max Sale Amt')"
      ]
     },
     "execution_count": 11,
     "metadata": {},
     "output_type": "execute_result"
    },
    {
     "data": {
      "image/png": "[encoded data removed]",
      "text/plain": [
       "<Figure size 1440x576 with 1 Axes>"
      ]
     },
     "metadata": {
      "needs_background": "light"
     },
     "output_type": "display_data"
    }
   ],
   "source": [
    "fig, ax = plt.subplots(figsize=(20,8))\n",
    "mean_sales_by_brand = data_df.groupby('brand')['mean_sale'].max().sort_values(ascending=False)[:10]\n",
    "mean_sales_by_brand.plot(x='brand', y='mean_sale', kind='bar', ax=ax)\n",
    "ax.set_title('Max Sale Amt by Brand')\n",
    "ax.set_xlabel('Brand')\n",
    "ax.set_ylabel('Max Sale Amt')"
   ]
  },
  {
   "cell_type": "code",
   "execution_count": 12,
   "id": "281e2b67",
   "metadata": {},
   "outputs": [
    {
     "data": {
      "text/plain": [
       "Text(0, 0.5, 'Median Sale Amt')"
      ]
     },
     "execution_count": 12,
     "metadata": {},
     "output_type": "execute_result"
    },
    {
     "data": {
      "image/png": "[encoded data removed]",
      "text/plain": [
       "<Figure size 1440x576 with 1 Axes>"
      ]
     },
     "metadata": {
      "needs_background": "light"
     },
     "output_type": "display_data"
    }
   ],
   "source": [
    "fig, ax = plt.subplots(figsize=(20,8))\n",
    "mean_sales_by_brand = data_df.groupby('brand')['mean_sale'].median().sort_values(ascending=False)[:10]\n",
    "mean_sales_by_brand.plot(x='brand', y='mean_sale', kind='bar', ax=ax)\n",
    "ax.set_title('Median Sale Amt by Brand')\n",
    "ax.set_xlabel('Brand')\n",
    "ax.set_ylabel('Median Sale Amt')"
   ]
  },
  {
   "cell_type": "code",
   "execution_count": 13,
   "id": "b486e81a",
   "metadata": {},
   "outputs": [
    {
     "data": {
      "text/plain": [
       "Text(0, 0.5, 'Count of Unique Models')"
      ]
     },
     "execution_count": 13,
     "metadata": {},
     "output_type": "execute_result"
    },
    {
     "data": {
      "image/png": "[encoded data removed]",
      "text/plain": [
       "<Figure size 1152x576 with 1 Axes>"
      ]
     },
     "metadata": {
      "needs_background": "light"
     },
     "output_type": "display_data"
    }
   ],
   "source": [
    "fig, ax = plt.subplots(figsize=(16,8))\n",
    "data_df['year'].value_counts().sort_index().plot(kind='bar', ax=ax)\n",
    "ax.set_title('Guitar Models by Year')\n",
    "ax.set_xlabel('Year')\n",
    "ax.set_ylabel('Count of Unique Models')"
   ]
  },
  {
   "cell_type": "code",
   "execution_count": 14,
   "id": "f3a638c9",
   "metadata": {},
   "outputs": [
    {
     "data": {
      "text/plain": [
       "Text(0, 0.5, 'Price ($)')"
      ]
     },
     "execution_count": 14,
     "metadata": {},
     "output_type": "execute_result"
    },
    {
     "data": {
      "image/png": "[encoded data removed]",
      "text/plain": [
       "<Figure size 432x288 with 1 Axes>"
      ]
     },
     "metadata": {
      "needs_background": "light"
     },
     "output_type": "display_data"
    }
   ],
   "source": [
    "fig, ax = plt.subplots()\n",
    "ax.scatter(merge_df['year'], merge_df['price'], alpha=0.35)\n",
    "ax.set_title('Year of Manufacture vs Sale Price')\n",
    "ax.set_xlabel('Year')\n",
    "ax.set_ylabel('Price ($)')"
   ]
  },
  {
   "cell_type": "code",
   "execution_count": 15,
   "id": "e0876c29",
   "metadata": {},
   "outputs": [
    {
     "data": {
      "text/plain": [
       "Text(0, 0.5, 'Log Price ($)')"
      ]
     },
     "execution_count": 15,
     "metadata": {},
     "output_type": "execute_result"
    },
    {
     "data": {
      "image/png": "[encoded data removed]",
      "text/plain": [
       "<Figure size 432x288 with 1 Axes>"
      ]
     },
     "metadata": {
      "needs_background": "light"
     },
     "output_type": "display_data"
    }
   ],
   "source": [
    "fig, ax = plt.subplots()\n",
    "ax.scatter(merge_df['year'], np.log(merge_df['price']), alpha=0.25)\n",
    "ax.set_title('Year of Manufacture vs Log of Sale Price')\n",
    "ax.set_xlabel('Year')\n",
    "ax.set_ylabel('Log Price ($)')"
   ]
  },
  {
   "cell_type": "code",
   "execution_count": 16,
   "id": "acad3c40",
   "metadata": {},
   "outputs": [
    {
     "data": {
      "image/png": "[encoded data removed]",
      "text/plain": [
       "<Figure size 1152x576 with 1 Axes>"
      ]
     },
     "metadata": {
      "needs_background": "light"
     },
     "output_type": "display_data"
    }
   ],
   "source": [
    "fig, ax = plt.subplots(figsize=(16,8))\n",
    "ax.hist(merge_df['price'], bins=1000)\n",
    "ax.set_title('Price Distribuiton')\n",
    "ax.set_xlabel('Price ($)')\n",
    "ax.set_ylabel('Number of Records')\n",
    "plt.show()"
   ]
  },
  {
   "cell_type": "code",
   "execution_count": 17,
   "id": "cae95dda",
   "metadata": {},
   "outputs": [
    {
     "data": {
      "image/png": "[encoded data removed]",
      "text/plain": [
       "<Figure size 1152x576 with 1 Axes>"
      ]
     },
     "metadata": {
      "needs_background": "light"
     },
     "output_type": "display_data"
    }
   ],
   "source": [
    "fig, ax = plt.subplots(figsize=(16,8))\n",
    "ax.hist(merge_df['price'], bins=1000, log=True)\n",
    "ax.set_title('Price Distribuiton Log y')\n",
    "ax.set_xlabel('Price ($)')\n",
    "ax.set_ylabel('Log e Number of Records')\n",
    "plt.show()\n"
   ]
  },
  {
   "cell_type": "code",
   "execution_count": 18,
   "id": "5720e0f9",
   "metadata": {},
   "outputs": [
    {
     "data": {
      "image/png": "[encoded data removed]",
      "text/plain": [
       "<Figure size 1152x576 with 1 Axes>"
      ]
     },
     "metadata": {
      "needs_background": "light"
     },
     "output_type": "display_data"
    }
   ],
   "source": [
    "fig, ax = plt.subplots(figsize=(16,8))\n",
    "ax.hist(np.log(merge_df['price']), bins=1000, log=True)\n",
    "ax.set_title('Price Distribuiton Log x & y')\n",
    "ax.set_xlabel('Log Price ($)')\n",
    "ax.set_ylabel('Log Number of Records')\n",
    "plt.show()"
   ]
  },
  {
   "cell_type": "markdown",
   "id": "b8012359",
   "metadata": {},
   "source": [
    "## Dummyize merged dataframe"
   ]
  },
  {
   "cell_type": "code",
   "execution_count": 19,
   "id": "d78f1cf6",
   "metadata": {},
   "outputs": [
    {
     "name": "stdout",
     "output_type": "stream",
     "text": [
      "<class 'pandas.core.frame.DataFrame'>\n",
      "Int64Index: 145161 entries, 0 to 145160\n",
      "Columns: 663 entries, sale_price to cond_Very Good\n",
      "dtypes: float64(1), int64(2), uint8(660)\n",
      "memory usage: 95.8 MB\n",
      "None\n"
     ]
    },
    {
     "data": {
      "text/html": [
       "<div>\n",
       "<style scoped>\n",
       "    .dataframe tbody tr th:only-of-type {\n",
       "        vertical-align: middle;\n",
       "    }\n",
       "\n",
       "    .dataframe tbody tr th {\n",
       "        vertical-align: top;\n",
       "    }\n",
       "\n",
       "    .dataframe thead th {\n",
       "        text-align: right;\n",
       "    }\n",
       "</style>\n",
       "<table border=\"1\" class=\"dataframe\">\n",
       "  <thead>\n",
       "    <tr style=\"text-align: right;\">\n",
       "      <th></th>\n",
       "      <th>sale_price</th>\n",
       "      <th>age_at_sale</th>\n",
       "      <th>year</th>\n",
       "      <th>brand_Airline</th>\n",
       "      <th>brand_American Showster</th>\n",
       "      <th>brand_Ampeg</th>\n",
       "      <th>brand_Aria</th>\n",
       "      <th>brand_B.C. Rich</th>\n",
       "      <th>brand_B3</th>\n",
       "      <th>brand_BC Rich</th>\n",
       "      <th>...</th>\n",
       "      <th>color_Worn Cherry</th>\n",
       "      <th>color_Worn Heritage Cherry Burst</th>\n",
       "      <th>color_Yellow</th>\n",
       "      <th>color_Yellow Burst</th>\n",
       "      <th>cond_Excellent</th>\n",
       "      <th>cond_Fair</th>\n",
       "      <th>cond_Good</th>\n",
       "      <th>cond_Mint</th>\n",
       "      <th>cond_Poor</th>\n",
       "      <th>cond_Very Good</th>\n",
       "    </tr>\n",
       "  </thead>\n",
       "  <tbody>\n",
       "    <tr>\n",
       "      <th>0</th>\n",
       "      <td>6495.0</td>\n",
       "      <td>29</td>\n",
       "      <td>1992</td>\n",
       "      <td>0</td>\n",
       "      <td>0</td>\n",
       "      <td>0</td>\n",
       "      <td>0</td>\n",
       "      <td>0</td>\n",
       "      <td>0</td>\n",
       "      <td>0</td>\n",
       "      <td>...</td>\n",
       "      <td>0</td>\n",
       "      <td>0</td>\n",
       "      <td>0</td>\n",
       "      <td>0</td>\n",
       "      <td>1</td>\n",
       "      <td>0</td>\n",
       "      <td>0</td>\n",
       "      <td>0</td>\n",
       "      <td>0</td>\n",
       "      <td>0</td>\n",
       "    </tr>\n",
       "    <tr>\n",
       "      <th>1</th>\n",
       "      <td>4325.0</td>\n",
       "      <td>28</td>\n",
       "      <td>1992</td>\n",
       "      <td>0</td>\n",
       "      <td>0</td>\n",
       "      <td>0</td>\n",
       "      <td>0</td>\n",
       "      <td>0</td>\n",
       "      <td>0</td>\n",
       "      <td>0</td>\n",
       "      <td>...</td>\n",
       "      <td>0</td>\n",
       "      <td>0</td>\n",
       "      <td>0</td>\n",
       "      <td>0</td>\n",
       "      <td>1</td>\n",
       "      <td>0</td>\n",
       "      <td>0</td>\n",
       "      <td>0</td>\n",
       "      <td>0</td>\n",
       "      <td>0</td>\n",
       "    </tr>\n",
       "    <tr>\n",
       "      <th>2</th>\n",
       "      <td>7995.0</td>\n",
       "      <td>28</td>\n",
       "      <td>1992</td>\n",
       "      <td>0</td>\n",
       "      <td>0</td>\n",
       "      <td>0</td>\n",
       "      <td>0</td>\n",
       "      <td>0</td>\n",
       "      <td>0</td>\n",
       "      <td>0</td>\n",
       "      <td>...</td>\n",
       "      <td>0</td>\n",
       "      <td>0</td>\n",
       "      <td>0</td>\n",
       "      <td>0</td>\n",
       "      <td>1</td>\n",
       "      <td>0</td>\n",
       "      <td>0</td>\n",
       "      <td>0</td>\n",
       "      <td>0</td>\n",
       "      <td>0</td>\n",
       "    </tr>\n",
       "    <tr>\n",
       "      <th>3</th>\n",
       "      <td>5495.0</td>\n",
       "      <td>28</td>\n",
       "      <td>1992</td>\n",
       "      <td>0</td>\n",
       "      <td>0</td>\n",
       "      <td>0</td>\n",
       "      <td>0</td>\n",
       "      <td>0</td>\n",
       "      <td>0</td>\n",
       "      <td>0</td>\n",
       "      <td>...</td>\n",
       "      <td>0</td>\n",
       "      <td>0</td>\n",
       "      <td>0</td>\n",
       "      <td>0</td>\n",
       "      <td>1</td>\n",
       "      <td>0</td>\n",
       "      <td>0</td>\n",
       "      <td>0</td>\n",
       "      <td>0</td>\n",
       "      <td>0</td>\n",
       "    </tr>\n",
       "    <tr>\n",
       "      <th>4</th>\n",
       "      <td>5800.0</td>\n",
       "      <td>28</td>\n",
       "      <td>1992</td>\n",
       "      <td>0</td>\n",
       "      <td>0</td>\n",
       "      <td>0</td>\n",
       "      <td>0</td>\n",
       "      <td>0</td>\n",
       "      <td>0</td>\n",
       "      <td>0</td>\n",
       "      <td>...</td>\n",
       "      <td>0</td>\n",
       "      <td>0</td>\n",
       "      <td>0</td>\n",
       "      <td>0</td>\n",
       "      <td>1</td>\n",
       "      <td>0</td>\n",
       "      <td>0</td>\n",
       "      <td>0</td>\n",
       "      <td>0</td>\n",
       "      <td>0</td>\n",
       "    </tr>\n",
       "  </tbody>\n",
       "</table>\n",
       "<p>5 rows × 663 columns</p>\n",
       "</div>"
      ],
      "text/plain": [
       "   sale_price  age_at_sale  year  brand_Airline  brand_American Showster  \\\n",
       "0      6495.0           29  1992              0                        0   \n",
       "1      4325.0           28  1992              0                        0   \n",
       "2      7995.0           28  1992              0                        0   \n",
       "3      5495.0           28  1992              0                        0   \n",
       "4      5800.0           28  1992              0                        0   \n",
       "\n",
       "   brand_Ampeg  brand_Aria  brand_B.C. Rich  brand_B3  brand_BC Rich  ...  \\\n",
       "0            0           0                0         0              0  ...   \n",
       "1            0           0                0         0              0  ...   \n",
       "2            0           0                0         0              0  ...   \n",
       "3            0           0                0         0              0  ...   \n",
       "4            0           0                0         0              0  ...   \n",
       "\n",
       "   color_Worn Cherry  color_Worn Heritage Cherry Burst  color_Yellow  \\\n",
       "0                  0                                 0             0   \n",
       "1                  0                                 0             0   \n",
       "2                  0                                 0             0   \n",
       "3                  0                                 0             0   \n",
       "4                  0                                 0             0   \n",
       "\n",
       "   color_Yellow Burst  cond_Excellent  cond_Fair  cond_Good  cond_Mint  \\\n",
       "0                   0               1          0          0          0   \n",
       "1                   0               1          0          0          0   \n",
       "2                   0               1          0          0          0   \n",
       "3                   0               1          0          0          0   \n",
       "4                   0               1          0          0          0   \n",
       "\n",
       "   cond_Poor  cond_Very Good  \n",
       "0          0               0  \n",
       "1          0               0  \n",
       "2          0               0  \n",
       "3          0               0  \n",
       "4          0               0  \n",
       "\n",
       "[5 rows x 663 columns]"
      ]
     },
     "execution_count": 19,
     "metadata": {},
     "output_type": "execute_result"
    }
   ],
   "source": [
    "dummy_df = pd.DataFrame({\n",
    "    'sale_price': merge_df['price'],\n",
    "    'age_at_sale': merge_df['age_at_sale'],\n",
    "    'year': merge_df['year']\n",
    "})\n",
    "dummy_df = pd.concat([\n",
    "    dummy_df,\n",
    "    pd.get_dummies(merge_df['brand'], prefix='brand'),\n",
    "    pd.get_dummies(merge_df['color'], prefix='color'),\n",
    "    pd.get_dummies(merge_df['cond'], prefix='cond')\n",
    "], axis=1)\n",
    "print(dummy_df.info())\n",
    "dummy_df.head()"
   ]
  },
  {
   "cell_type": "code",
   "execution_count": 20,
   "id": "c275ed5c",
   "metadata": {},
   "outputs": [],
   "source": [
    "X = dummy_df.drop(['sale_price'], axis=1)\n",
    "y = dummy_df['sale_price']"
   ]
  },
  {
   "cell_type": "code",
   "execution_count": 21,
   "id": "205f857d",
   "metadata": {},
   "outputs": [],
   "source": [
    "rf_params = {\n",
    "    'n_estimators': 100,\n",
    "    'max_depth': 100,\n",
    "    'max_features': 'sqrt',\n",
    "    'max_leaf_nodes': 1000,\n",
    "    'oob_score': True,\n",
    "    'n_jobs': -1,\n",
    "    # 'verbose': 1\n",
    "}"
   ]
  },
  {
   "cell_type": "code",
   "execution_count": 22,
   "id": "bfee6759",
   "metadata": {
    "tags": []
   },
   "outputs": [],
   "source": [
    "X_train, X_test, y_train, y_test = train_test_split(X, y)\n",
    "rf = RandomForestRegressor(**rf_params)"
   ]
  },
  {
   "cell_type": "code",
   "execution_count": 23,
   "id": "c1bdbc04",
   "metadata": {
    "tags": []
   },
   "outputs": [
    {
     "data": {
      "text/plain": [
       "RandomForestRegressor(max_depth=100, max_features='sqrt', max_leaf_nodes=1000,\n",
       "                      n_jobs=-1, oob_score=True)"
      ]
     },
     "execution_count": 23,
     "metadata": {},
     "output_type": "execute_result"
    }
   ],
   "source": [
    "rf.fit(X_train, y_train)"
   ]
  },
  {
   "cell_type": "code",
   "execution_count": 24,
   "id": "bfddf470",
   "metadata": {},
   "outputs": [
    {
     "name": "stdout",
     "output_type": "stream",
     "text": [
      "0.6094724147279011\n",
      "0.6673321122529452\n"
     ]
    }
   ],
   "source": [
    "print(rf.score(X_test, y_test))\n",
    "print(rf.oob_score_)"
   ]
  },
  {
   "cell_type": "code",
   "execution_count": 25,
   "id": "7307de0b",
   "metadata": {},
   "outputs": [
    {
     "name": "stdout",
     "output_type": "stream",
     "text": [
      "2016756.0896250475\n",
      "476.93471812429954\n",
      "0.680609856519994\n"
     ]
    },
    {
     "data": {
      "image/png": "[encoded data removed]",
      "text/plain": [
       "<Figure size 432x288 with 1 Axes>"
      ]
     },
     "metadata": {
      "needs_background": "light"
     },
     "output_type": "display_data"
    }
   ],
   "source": [
    "pred = rf.predict(X_test)\n",
    "residuals = y_test - pred\n",
    "mse = mean_squared_error(y_test, pred)\n",
    "mae = mean_absolute_error(y_test, pred)\n",
    "mape = mean_absolute_percentage_error(y_test, pred)\n",
    "print(mse)\n",
    "print(mae)\n",
    "print(mape)\n",
    "fig, ax = plt.subplots()\n",
    "ax.scatter(pred, residuals, alpha=0.25)\n",
    "ax.set_title(f'Prediction vs Residuals ({round(mape*100, 2)})')\n",
    "ax.set_xlabel('Prediction')\n",
    "ax.set_ylabel('Residuals')\n",
    "plt.show()"
   ]
  },
  {
   "cell_type": "markdown",
   "id": "1b8297c7",
   "metadata": {
    "tags": []
   },
   "source": [
    "## Let's try looking at the log of the price instead"
   ]
  },
  {
   "cell_type": "code",
   "execution_count": 26,
   "id": "95a25df3",
   "metadata": {
    "tags": []
   },
   "outputs": [],
   "source": [
    "X_train, X_test, y_train, y_test = train_test_split(X, np.log(y))\n",
    "rf = RandomForestRegressor(**rf_params)"
   ]
  },
  {
   "cell_type": "code",
   "execution_count": 27,
   "id": "7e31cc5e",
   "metadata": {
    "tags": []
   },
   "outputs": [
    {
     "data": {
      "text/plain": [
       "RandomForestRegressor(max_depth=100, max_features='sqrt', max_leaf_nodes=1000,\n",
       "                      n_jobs=-1, oob_score=True)"
      ]
     },
     "execution_count": 27,
     "metadata": {},
     "output_type": "execute_result"
    }
   ],
   "source": [
    "rf.fit(X_train, y_train)"
   ]
  },
  {
   "cell_type": "code",
   "execution_count": 28,
   "id": "ad6bed38",
   "metadata": {},
   "outputs": [
    {
     "name": "stdout",
     "output_type": "stream",
     "text": [
      "0.7201620340512007\n",
      "0.7168017361449064\n"
     ]
    }
   ],
   "source": [
    "print(rf.score(X_test, y_test))\n",
    "print(rf.oob_score_)"
   ]
  },
  {
   "cell_type": "code",
   "execution_count": 29,
   "id": "55f99f14",
   "metadata": {},
   "outputs": [
    {
     "name": "stdout",
     "output_type": "stream",
     "text": [
      "0.2121373055789041\n",
      "0.34297365221798465\n",
      "0.05279760506169003\n"
     ]
    },
    {
     "data": {
      "image/png": "[encoded data removed]",
      "text/plain": [
       "<Figure size 432x288 with 1 Axes>"
      ]
     },
     "metadata": {
      "needs_background": "light"
     },
     "output_type": "display_data"
    }
   ],
   "source": [
    "pred = rf.predict(X_test)\n",
    "residuals = y_test - pred\n",
    "mse = mean_squared_error(y_test, pred)\n",
    "mae = mean_absolute_error(y_test, pred)\n",
    "mape = mean_absolute_percentage_error(y_test, pred)\n",
    "print(mse)\n",
    "print(mae)\n",
    "print(mape)\n",
    "fig, ax = plt.subplots()\n",
    "ax.scatter(pred, residuals, alpha=0.25)\n",
    "ax.set_title(f'Log( Prediction vs Residuals ) ({round(mape*100, 2)})')\n",
    "ax.set_xlabel('Log Prediction')\n",
    "ax.set_ylabel('Log Residuals')\n",
    "plt.show()"
   ]
  },
  {
   "cell_type": "markdown",
   "id": "41460127",
   "metadata": {},
   "source": [
    "#### I noticed some unusually low prices, I think they're due to people trying to avoid fees on Reverb\n",
    "We'll drop sales that are less than 10% the average sale price"
   ]
  },
  {
   "cell_type": "code",
   "execution_count": 30,
   "id": "9ecbcb4a",
   "metadata": {},
   "outputs": [],
   "source": [
    "df = dummy_df[dummy_df['sale_price'] > merge_df['mean_sale']*0.1]"
   ]
  },
  {
   "cell_type": "code",
   "execution_count": 31,
   "id": "9dc15618",
   "metadata": {
    "tags": []
   },
   "outputs": [],
   "source": [
    "X = df.drop(['sale_price'], axis=1)\n",
    "y = df['sale_price']"
   ]
  },
  {
   "cell_type": "code",
   "execution_count": 32,
   "id": "29d79f43",
   "metadata": {
    "tags": []
   },
   "outputs": [],
   "source": [
    "X_train, X_test, y_train, y_test = train_test_split(X, np.log(y))\n",
    "rf = RandomForestRegressor(**rf_params)"
   ]
  },
  {
   "cell_type": "code",
   "execution_count": 33,
   "id": "33b3d49d",
   "metadata": {
    "tags": []
   },
   "outputs": [
    {
     "data": {
      "text/plain": [
       "RandomForestRegressor(max_depth=100, max_features='sqrt', max_leaf_nodes=1000,\n",
       "                      n_jobs=-1, oob_score=True)"
      ]
     },
     "execution_count": 33,
     "metadata": {},
     "output_type": "execute_result"
    }
   ],
   "source": [
    "rf.fit(X_train, y_train)"
   ]
  },
  {
   "cell_type": "code",
   "execution_count": 34,
   "id": "ea4ab1e0",
   "metadata": {},
   "outputs": [
    {
     "name": "stdout",
     "output_type": "stream",
     "text": [
      "0.7355872410083998\n",
      "0.7340578679230623\n"
     ]
    }
   ],
   "source": [
    "print(rf.score(X_test, y_test))\n",
    "print(rf.oob_score_)"
   ]
  },
  {
   "cell_type": "markdown",
   "id": "dbe1ea86",
   "metadata": {},
   "source": [
    "Scores didn't change much, I think this means that the low prices weren't having much effect on the model"
   ]
  },
  {
   "cell_type": "markdown",
   "id": "3cc05309",
   "metadata": {},
   "source": [
    "Our errors below did shrink though!"
   ]
  },
  {
   "cell_type": "code",
   "execution_count": 35,
   "id": "cb4f808e",
   "metadata": {},
   "outputs": [],
   "source": [
    "pred = rf.predict(X_test)\n",
    "residuals = y_test - pred"
   ]
  },
  {
   "cell_type": "code",
   "execution_count": 36,
   "id": "f0c07e17",
   "metadata": {},
   "outputs": [
    {
     "data": {
      "image/png": "[encoded data removed]",
      "text/plain": [
       "<Figure size 432x288 with 1 Axes>"
      ]
     },
     "metadata": {
      "needs_background": "light"
     },
     "output_type": "display_data"
    }
   ],
   "source": [
    "abs_percent_error = np.abs(y_test - pred)/y_test\n",
    "mape = np.mean(abs_percent_error)\n",
    "a_sort = abs_percent_error.argsort()\n",
    "fig, ax = plt.subplots()\n",
    "ax.scatter(pred[a_sort], residuals.iloc[a_sort], alpha=0.75, c=abs_percent_error.iloc[a_sort])\n",
    "ax.set_title(f'Log( Prediction vs Residuals ) ({round(mape*100, 2)})')\n",
    "ax.set_xlabel('Log Prediction')\n",
    "ax.set_ylabel('Log Residuals')\n",
    "plt.show()"
   ]
  },
  {
   "cell_type": "markdown",
   "id": "3af72e85",
   "metadata": {},
   "source": [
    "### FEATURE IMPORTANCES\n",
    "I have a lot of features, many of them with low importance. I want to try dropping some of these."
   ]
  },
  {
   "cell_type": "code",
   "execution_count": 37,
   "id": "f5b6725f",
   "metadata": {},
   "outputs": [],
   "source": [
    "feat_scores = pd.Series(rf.feature_importances_, index=X.columns)"
   ]
  },
  {
   "cell_type": "markdown",
   "id": "901c1ba6",
   "metadata": {},
   "source": [
    "0.0005 feels like a good threshold because I'm still left with > 100 features and it captures all condition features"
   ]
  },
  {
   "cell_type": "code",
   "execution_count": 38,
   "id": "ca70a872",
   "metadata": {},
   "outputs": [
    {
     "name": "stdout",
     "output_type": "stream",
     "text": [
      "Excellent   0.005009925656372823\n",
      "Mint        0.004650488895174568\n",
      "Good        0.007835723716184458\n",
      "Very Good   0.0028311331703224996\n",
      "Fair        0.0047883638269355065\n",
      "Poor        0.0006995849832805252\n"
     ]
    }
   ],
   "source": [
    "for cond in sales_df['cond'].unique():\n",
    "    print(cond, ' '*(10-len(cond)), feat_scores['cond_' + cond])"
   ]
  },
  {
   "cell_type": "code",
   "execution_count": 39,
   "id": "559f8596",
   "metadata": {},
   "outputs": [
    {
     "data": {
      "text/html": [
       "<div>\n",
       "<style scoped>\n",
       "    .dataframe tbody tr th:only-of-type {\n",
       "        vertical-align: middle;\n",
       "    }\n",
       "\n",
       "    .dataframe tbody tr th {\n",
       "        vertical-align: top;\n",
       "    }\n",
       "\n",
       "    .dataframe thead th {\n",
       "        text-align: right;\n",
       "    }\n",
       "</style>\n",
       "<table border=\"1\" class=\"dataframe\">\n",
       "  <thead>\n",
       "    <tr style=\"text-align: right;\">\n",
       "      <th></th>\n",
       "      <th>age_at_sale</th>\n",
       "      <th>year</th>\n",
       "      <th>brand_Danelectro</th>\n",
       "      <th>brand_Duesenberg</th>\n",
       "      <th>brand_ESP</th>\n",
       "      <th>brand_Eastwood</th>\n",
       "      <th>brand_Epiphone</th>\n",
       "      <th>brand_Fano</th>\n",
       "      <th>brand_Fender</th>\n",
       "      <th>brand_G&amp;L</th>\n",
       "      <th>...</th>\n",
       "      <th>color_White</th>\n",
       "      <th>color_Wine Red</th>\n",
       "      <th>color_Worn Brown</th>\n",
       "      <th>color_Worn Cherry</th>\n",
       "      <th>cond_Excellent</th>\n",
       "      <th>cond_Fair</th>\n",
       "      <th>cond_Good</th>\n",
       "      <th>cond_Mint</th>\n",
       "      <th>cond_Poor</th>\n",
       "      <th>cond_Very Good</th>\n",
       "    </tr>\n",
       "  </thead>\n",
       "  <tbody>\n",
       "    <tr>\n",
       "      <th>0</th>\n",
       "      <td>29</td>\n",
       "      <td>1992</td>\n",
       "      <td>0</td>\n",
       "      <td>0</td>\n",
       "      <td>0</td>\n",
       "      <td>0</td>\n",
       "      <td>0</td>\n",
       "      <td>0</td>\n",
       "      <td>0</td>\n",
       "      <td>0</td>\n",
       "      <td>...</td>\n",
       "      <td>0</td>\n",
       "      <td>0</td>\n",
       "      <td>0</td>\n",
       "      <td>0</td>\n",
       "      <td>1</td>\n",
       "      <td>0</td>\n",
       "      <td>0</td>\n",
       "      <td>0</td>\n",
       "      <td>0</td>\n",
       "      <td>0</td>\n",
       "    </tr>\n",
       "    <tr>\n",
       "      <th>1</th>\n",
       "      <td>28</td>\n",
       "      <td>1992</td>\n",
       "      <td>0</td>\n",
       "      <td>0</td>\n",
       "      <td>0</td>\n",
       "      <td>0</td>\n",
       "      <td>0</td>\n",
       "      <td>0</td>\n",
       "      <td>0</td>\n",
       "      <td>0</td>\n",
       "      <td>...</td>\n",
       "      <td>0</td>\n",
       "      <td>0</td>\n",
       "      <td>0</td>\n",
       "      <td>0</td>\n",
       "      <td>1</td>\n",
       "      <td>0</td>\n",
       "      <td>0</td>\n",
       "      <td>0</td>\n",
       "      <td>0</td>\n",
       "      <td>0</td>\n",
       "    </tr>\n",
       "    <tr>\n",
       "      <th>2</th>\n",
       "      <td>28</td>\n",
       "      <td>1992</td>\n",
       "      <td>0</td>\n",
       "      <td>0</td>\n",
       "      <td>0</td>\n",
       "      <td>0</td>\n",
       "      <td>0</td>\n",
       "      <td>0</td>\n",
       "      <td>0</td>\n",
       "      <td>0</td>\n",
       "      <td>...</td>\n",
       "      <td>0</td>\n",
       "      <td>0</td>\n",
       "      <td>0</td>\n",
       "      <td>0</td>\n",
       "      <td>1</td>\n",
       "      <td>0</td>\n",
       "      <td>0</td>\n",
       "      <td>0</td>\n",
       "      <td>0</td>\n",
       "      <td>0</td>\n",
       "    </tr>\n",
       "    <tr>\n",
       "      <th>3</th>\n",
       "      <td>28</td>\n",
       "      <td>1992</td>\n",
       "      <td>0</td>\n",
       "      <td>0</td>\n",
       "      <td>0</td>\n",
       "      <td>0</td>\n",
       "      <td>0</td>\n",
       "      <td>0</td>\n",
       "      <td>0</td>\n",
       "      <td>0</td>\n",
       "      <td>...</td>\n",
       "      <td>0</td>\n",
       "      <td>0</td>\n",
       "      <td>0</td>\n",
       "      <td>0</td>\n",
       "      <td>1</td>\n",
       "      <td>0</td>\n",
       "      <td>0</td>\n",
       "      <td>0</td>\n",
       "      <td>0</td>\n",
       "      <td>0</td>\n",
       "    </tr>\n",
       "    <tr>\n",
       "      <th>4</th>\n",
       "      <td>28</td>\n",
       "      <td>1992</td>\n",
       "      <td>0</td>\n",
       "      <td>0</td>\n",
       "      <td>0</td>\n",
       "      <td>0</td>\n",
       "      <td>0</td>\n",
       "      <td>0</td>\n",
       "      <td>0</td>\n",
       "      <td>0</td>\n",
       "      <td>...</td>\n",
       "      <td>0</td>\n",
       "      <td>0</td>\n",
       "      <td>0</td>\n",
       "      <td>0</td>\n",
       "      <td>1</td>\n",
       "      <td>0</td>\n",
       "      <td>0</td>\n",
       "      <td>0</td>\n",
       "      <td>0</td>\n",
       "      <td>0</td>\n",
       "    </tr>\n",
       "    <tr>\n",
       "      <th>...</th>\n",
       "      <td>...</td>\n",
       "      <td>...</td>\n",
       "      <td>...</td>\n",
       "      <td>...</td>\n",
       "      <td>...</td>\n",
       "      <td>...</td>\n",
       "      <td>...</td>\n",
       "      <td>...</td>\n",
       "      <td>...</td>\n",
       "      <td>...</td>\n",
       "      <td>...</td>\n",
       "      <td>...</td>\n",
       "      <td>...</td>\n",
       "      <td>...</td>\n",
       "      <td>...</td>\n",
       "      <td>...</td>\n",
       "      <td>...</td>\n",
       "      <td>...</td>\n",
       "      <td>...</td>\n",
       "      <td>...</td>\n",
       "      <td>...</td>\n",
       "    </tr>\n",
       "    <tr>\n",
       "      <th>145156</th>\n",
       "      <td>78</td>\n",
       "      <td>1940</td>\n",
       "      <td>0</td>\n",
       "      <td>0</td>\n",
       "      <td>0</td>\n",
       "      <td>0</td>\n",
       "      <td>0</td>\n",
       "      <td>0</td>\n",
       "      <td>0</td>\n",
       "      <td>0</td>\n",
       "      <td>...</td>\n",
       "      <td>0</td>\n",
       "      <td>0</td>\n",
       "      <td>0</td>\n",
       "      <td>0</td>\n",
       "      <td>0</td>\n",
       "      <td>0</td>\n",
       "      <td>0</td>\n",
       "      <td>0</td>\n",
       "      <td>0</td>\n",
       "      <td>1</td>\n",
       "    </tr>\n",
       "    <tr>\n",
       "      <th>145157</th>\n",
       "      <td>77</td>\n",
       "      <td>1940</td>\n",
       "      <td>0</td>\n",
       "      <td>0</td>\n",
       "      <td>0</td>\n",
       "      <td>0</td>\n",
       "      <td>0</td>\n",
       "      <td>0</td>\n",
       "      <td>0</td>\n",
       "      <td>0</td>\n",
       "      <td>...</td>\n",
       "      <td>0</td>\n",
       "      <td>0</td>\n",
       "      <td>0</td>\n",
       "      <td>0</td>\n",
       "      <td>0</td>\n",
       "      <td>0</td>\n",
       "      <td>1</td>\n",
       "      <td>0</td>\n",
       "      <td>0</td>\n",
       "      <td>0</td>\n",
       "    </tr>\n",
       "    <tr>\n",
       "      <th>145158</th>\n",
       "      <td>77</td>\n",
       "      <td>1940</td>\n",
       "      <td>0</td>\n",
       "      <td>0</td>\n",
       "      <td>0</td>\n",
       "      <td>0</td>\n",
       "      <td>0</td>\n",
       "      <td>0</td>\n",
       "      <td>0</td>\n",
       "      <td>0</td>\n",
       "      <td>...</td>\n",
       "      <td>0</td>\n",
       "      <td>0</td>\n",
       "      <td>0</td>\n",
       "      <td>0</td>\n",
       "      <td>1</td>\n",
       "      <td>0</td>\n",
       "      <td>0</td>\n",
       "      <td>0</td>\n",
       "      <td>0</td>\n",
       "      <td>0</td>\n",
       "    </tr>\n",
       "    <tr>\n",
       "      <th>145159</th>\n",
       "      <td>77</td>\n",
       "      <td>1940</td>\n",
       "      <td>0</td>\n",
       "      <td>0</td>\n",
       "      <td>0</td>\n",
       "      <td>0</td>\n",
       "      <td>0</td>\n",
       "      <td>0</td>\n",
       "      <td>0</td>\n",
       "      <td>0</td>\n",
       "      <td>...</td>\n",
       "      <td>0</td>\n",
       "      <td>0</td>\n",
       "      <td>0</td>\n",
       "      <td>0</td>\n",
       "      <td>0</td>\n",
       "      <td>0</td>\n",
       "      <td>0</td>\n",
       "      <td>0</td>\n",
       "      <td>0</td>\n",
       "      <td>1</td>\n",
       "    </tr>\n",
       "    <tr>\n",
       "      <th>145160</th>\n",
       "      <td>76</td>\n",
       "      <td>1940</td>\n",
       "      <td>0</td>\n",
       "      <td>0</td>\n",
       "      <td>0</td>\n",
       "      <td>0</td>\n",
       "      <td>0</td>\n",
       "      <td>0</td>\n",
       "      <td>0</td>\n",
       "      <td>0</td>\n",
       "      <td>...</td>\n",
       "      <td>0</td>\n",
       "      <td>0</td>\n",
       "      <td>0</td>\n",
       "      <td>0</td>\n",
       "      <td>0</td>\n",
       "      <td>0</td>\n",
       "      <td>1</td>\n",
       "      <td>0</td>\n",
       "      <td>0</td>\n",
       "      <td>0</td>\n",
       "    </tr>\n",
       "  </tbody>\n",
       "</table>\n",
       "<p>145064 rows × 110 columns</p>\n",
       "</div>"
      ],
      "text/plain": [
       "        age_at_sale  year  brand_Danelectro  brand_Duesenberg  brand_ESP  \\\n",
       "0                29  1992                 0                 0          0   \n",
       "1                28  1992                 0                 0          0   \n",
       "2                28  1992                 0                 0          0   \n",
       "3                28  1992                 0                 0          0   \n",
       "4                28  1992                 0                 0          0   \n",
       "...             ...   ...               ...               ...        ...   \n",
       "145156           78  1940                 0                 0          0   \n",
       "145157           77  1940                 0                 0          0   \n",
       "145158           77  1940                 0                 0          0   \n",
       "145159           77  1940                 0                 0          0   \n",
       "145160           76  1940                 0                 0          0   \n",
       "\n",
       "        brand_Eastwood  brand_Epiphone  brand_Fano  brand_Fender  brand_G&L  \\\n",
       "0                    0               0           0             0          0   \n",
       "1                    0               0           0             0          0   \n",
       "2                    0               0           0             0          0   \n",
       "3                    0               0           0             0          0   \n",
       "4                    0               0           0             0          0   \n",
       "...                ...             ...         ...           ...        ...   \n",
       "145156               0               0           0             0          0   \n",
       "145157               0               0           0             0          0   \n",
       "145158               0               0           0             0          0   \n",
       "145159               0               0           0             0          0   \n",
       "145160               0               0           0             0          0   \n",
       "\n",
       "        ...  color_White  color_Wine Red  color_Worn Brown  color_Worn Cherry  \\\n",
       "0       ...            0               0                 0                  0   \n",
       "1       ...            0               0                 0                  0   \n",
       "2       ...            0               0                 0                  0   \n",
       "3       ...            0               0                 0                  0   \n",
       "4       ...            0               0                 0                  0   \n",
       "...     ...          ...             ...               ...                ...   \n",
       "145156  ...            0               0                 0                  0   \n",
       "145157  ...            0               0                 0                  0   \n",
       "145158  ...            0               0                 0                  0   \n",
       "145159  ...            0               0                 0                  0   \n",
       "145160  ...            0               0                 0                  0   \n",
       "\n",
       "        cond_Excellent  cond_Fair  cond_Good  cond_Mint  cond_Poor  \\\n",
       "0                    1          0          0          0          0   \n",
       "1                    1          0          0          0          0   \n",
       "2                    1          0          0          0          0   \n",
       "3                    1          0          0          0          0   \n",
       "4                    1          0          0          0          0   \n",
       "...                ...        ...        ...        ...        ...   \n",
       "145156               0          0          0          0          0   \n",
       "145157               0          0          1          0          0   \n",
       "145158               1          0          0          0          0   \n",
       "145159               0          0          0          0          0   \n",
       "145160               0          0          1          0          0   \n",
       "\n",
       "        cond_Very Good  \n",
       "0                    0  \n",
       "1                    0  \n",
       "2                    0  \n",
       "3                    0  \n",
       "4                    0  \n",
       "...                ...  \n",
       "145156               1  \n",
       "145157               0  \n",
       "145158               0  \n",
       "145159               1  \n",
       "145160               0  \n",
       "\n",
       "[145064 rows x 110 columns]"
      ]
     },
     "execution_count": 39,
     "metadata": {},
     "output_type": "execute_result"
    }
   ],
   "source": [
    "X.loc[:, np.array(feat_scores > 0.0005)]"
   ]
  },
  {
   "cell_type": "code",
   "execution_count": 40,
   "id": "b049e278",
   "metadata": {},
   "outputs": [
    {
     "data": {
      "text/plain": [
       "Text(0, 0.5, 'Features')"
      ]
     },
     "execution_count": 40,
     "metadata": {},
     "output_type": "execute_result"
    },
    {
     "data": {
      "image/png": "[encoded data removed]",
      "text/plain": [
       "<Figure size 1440x576 with 1 Axes>"
      ]
     },
     "metadata": {
      "needs_background": "light"
     },
     "output_type": "display_data"
    }
   ],
   "source": [
    "ax = feat_scores[feat_scores > 0.0005].sort_values(ascending=False)[:20][::-1].plot(kind='barh', figsize=(20,8))\n",
    "ax.set_title('Feature Importances')\n",
    "ax.set_xlabel('Gini Importance Score')\n",
    "ax.set_ylabel('Features')"
   ]
  },
  {
   "cell_type": "code",
   "execution_count": 41,
   "id": "127055d2",
   "metadata": {
    "tags": []
   },
   "outputs": [],
   "source": [
    "X = X.loc[:, np.array(feat_scores > 0.0005)]\n",
    "y = df['sale_price']"
   ]
  },
  {
   "cell_type": "code",
   "execution_count": 42,
   "id": "105c8386",
   "metadata": {},
   "outputs": [
    {
     "name": "stdout",
     "output_type": "stream",
     "text": [
      "<class 'pandas.core.frame.DataFrame'>\n",
      "Int64Index: 145064 entries, 0 to 145160\n",
      "Columns: 110 entries, age_at_sale to cond_Very Good\n",
      "dtypes: int64(2), uint8(108)\n",
      "memory usage: 18.3 MB\n"
     ]
    }
   ],
   "source": [
    "X.info()"
   ]
  },
  {
   "cell_type": "code",
   "execution_count": 43,
   "id": "4dc6009f",
   "metadata": {
    "tags": []
   },
   "outputs": [],
   "source": [
    "X_train, X_test, y_train, y_test = train_test_split(X, np.log(y))\n",
    "rf = RandomForestRegressor(**rf_params)"
   ]
  },
  {
   "cell_type": "code",
   "execution_count": 44,
   "id": "a60f93a9",
   "metadata": {
    "tags": []
   },
   "outputs": [
    {
     "data": {
      "text/plain": [
       "RandomForestRegressor(max_depth=100, max_features='sqrt', max_leaf_nodes=1000,\n",
       "                      n_jobs=-1, oob_score=True)"
      ]
     },
     "execution_count": 44,
     "metadata": {},
     "output_type": "execute_result"
    }
   ],
   "source": [
    "rf.fit(X_train, y_train)"
   ]
  },
  {
   "cell_type": "code",
   "execution_count": 45,
   "id": "290acbd3",
   "metadata": {},
   "outputs": [],
   "source": [
    "with open('app/static/rfr_trained.pkl', 'wb') as f:\n",
    "    pkl.dump(rf, f)"
   ]
  },
  {
   "cell_type": "markdown",
   "id": "4b5d2d60",
   "metadata": {},
   "source": [
    "A bit of improvement in score, but the forest regressor runs MUCH faster  \n",
    "This should make a grid search easier"
   ]
  },
  {
   "cell_type": "code",
   "execution_count": 46,
   "id": "f5b7a417",
   "metadata": {},
   "outputs": [
    {
     "name": "stdout",
     "output_type": "stream",
     "text": [
      "0.7557518817631335\n",
      "0.7635576344961325\n",
      "0.7507151233951406\n"
     ]
    }
   ],
   "source": [
    "print(rf.score(X_test, y_test))\n",
    "print(rf.score(X_train, y_train))\n",
    "print(rf.oob_score_)"
   ]
  },
  {
   "cell_type": "code",
   "execution_count": 47,
   "id": "b92d3bbc",
   "metadata": {},
   "outputs": [],
   "source": [
    "pred = np.exp(rf.predict(X_test))\n",
    "y_test_e = np.exp(y_test)\n",
    "residuals = y_test_e - pred"
   ]
  },
  {
   "cell_type": "code",
   "execution_count": 48,
   "id": "2fb1d953",
   "metadata": {},
   "outputs": [
    {
     "data": {
      "image/png": "[encoded data removed]",
      "text/plain": [
       "<Figure size 432x288 with 2 Axes>"
      ]
     },
     "metadata": {
      "needs_background": "light"
     },
     "output_type": "display_data"
    }
   ],
   "source": [
    "abs_percent_error = (np.abs(y_test_e - pred)/y_test_e)*100\n",
    "mape = np.mean(abs_percent_error)\n",
    "a_sort = abs_percent_error.argsort()\n",
    "fig, ax = plt.subplots()\n",
    "scatter = ax.scatter(pred, residuals, alpha=0.75, c=abs_percent_error.iloc[a_sort])\n",
    "ax.set_title(f'Prediction vs Residuals (MAPE: {round(mape, 2)}%)')\n",
    "ax.set_xlabel('Prediction')\n",
    "ax.set_ylabel('Residuals')\n",
    "cb = fig.colorbar(scatter, ax=ax)\n",
    "cb.set_label('Abs % err')\n",
    "# ax.set_ylim(-10000,50000)"
   ]
  },
  {
   "cell_type": "code",
   "execution_count": 49,
   "id": "19202357",
   "metadata": {},
   "outputs": [
    {
     "data": {
      "text/plain": [
       "count    36266.000000\n",
       "mean        34.252960\n",
       "std         38.557254\n",
       "min          0.001650\n",
       "25%         12.053725\n",
       "50%         25.450124\n",
       "75%         44.189229\n",
       "max        937.912561\n",
       "Name: sale_price, dtype: float64"
      ]
     },
     "execution_count": 49,
     "metadata": {},
     "output_type": "execute_result"
    }
   ],
   "source": [
    "abs_percent_error.describe()"
   ]
  },
  {
   "cell_type": "code",
   "execution_count": 50,
   "id": "2fea7d08",
   "metadata": {},
   "outputs": [
    {
     "data": {
      "image/png": "[encoded data removed]",
      "text/plain": [
       "<Figure size 432x288 with 2 Axes>"
      ]
     },
     "metadata": {
      "needs_background": "light"
     },
     "output_type": "display_data"
    }
   ],
   "source": [
    "fig, ax = plt.subplots()\n",
    "scatter = ax.scatter(X_test['year'].iloc[a_sort], np.log(y_test_e.iloc[a_sort]), c=abs_percent_error.iloc[a_sort], alpha=0.75)\n",
    "ax.set_title('Year vs Log Price')\n",
    "ax.set_xlabel('Year of Manufacture')\n",
    "ax.set_ylabel('Log Actual $')\n",
    "cb = fig.colorbar(scatter, ax=ax)\n",
    "cb.set_label('Abs % err')"
   ]
  },
  {
   "cell_type": "code",
   "execution_count": 51,
   "id": "274af036",
   "metadata": {},
   "outputs": [
    {
     "data": {
      "text/plain": [
       "array([ 6021.38384572,  6626.00468511,  4778.23965493, ...,\n",
       "       12870.71398941, 13510.00055384, 54632.16302855])"
      ]
     },
     "execution_count": 51,
     "metadata": {},
     "output_type": "execute_result"
    }
   ],
   "source": [
    "ra = residuals.argsort()\n",
    "idxs = residuals.index[ra]\n",
    "pred[ra]"
   ]
  },
  {
   "cell_type": "code",
   "execution_count": 52,
   "id": "dc65da97",
   "metadata": {},
   "outputs": [],
   "source": [
    "# params = {\n",
    "#     'n_estimators': np.arange(50, 501, 50),\n",
    "#     'max_depth': np.arange(25, 201, 25),\n",
    "#     'max_features': ['sqrt', 'log2'],\n",
    "#     'max_leaf_nodes': np.arange(100, 1001, 200),\n",
    "#     'oob_score': [True],\n",
    "#     'n_jobs': [-1],\n",
    "#     'verbose': [2]\n",
    "# }\n",
    "\n",
    "# gs = GridSearchCV(\n",
    "#     RandomForestRegressor(),\n",
    "#     params,\n",
    "#     cv=5,\n",
    "#     n_jobs=-1\n",
    "# )\n",
    "\n",
    "# gs.fit(X_train, y_train)\n",
    "# gsdf = pd.DataFrame(gs.cv_results_)"
   ]
  },
  {
   "cell_type": "code",
   "execution_count": 53,
   "id": "a961dad4",
   "metadata": {},
   "outputs": [
    {
     "data": {
      "image/png": "[encoded data removed]",
      "text/plain": [
       "<Figure size 720x360 with 3 Axes>"
      ]
     },
     "metadata": {
      "needs_background": "light"
     },
     "output_type": "display_data"
    }
   ],
   "source": [
    "fig, ax = plt.subplots(figsize=(10,5))\n",
    "f = feat_scores.argsort()[::-1]\n",
    "plot_partial_dependence(rf, X_train, [f[1], f[3]], target=1, ax=ax)\n",
    "plt.tight_layout()"
   ]
  },
  {
   "cell_type": "code",
   "execution_count": 54,
   "id": "5c23edea",
   "metadata": {
    "tags": []
   },
   "outputs": [],
   "source": [
    "# result = permutation_importance(rf, X_test, y_test, n_repeats=10, n_jobs=-1)\n",
    "# sorted_idx = result.importances_mean.argsort()[:50]\n",
    "\n",
    "# fig, ax = plt.subplots()\n",
    "# ax.boxplot(result.importances[sorted_idx].T, vert=False, labels=X_test.columns[sorted_idx])\n",
    "# plt.show()"
   ]
  },
  {
   "cell_type": "code",
   "execution_count": 55,
   "id": "70ded602",
   "metadata": {},
   "outputs": [
    {
     "data": {
      "text/html": [
       "<div>\n",
       "<style scoped>\n",
       "    .dataframe tbody tr th:only-of-type {\n",
       "        vertical-align: middle;\n",
       "    }\n",
       "\n",
       "    .dataframe tbody tr th {\n",
       "        vertical-align: top;\n",
       "    }\n",
       "\n",
       "    .dataframe thead th {\n",
       "        text-align: right;\n",
       "    }\n",
       "</style>\n",
       "<table border=\"1\" class=\"dataframe\">\n",
       "  <thead>\n",
       "    <tr style=\"text-align: right;\">\n",
       "      <th></th>\n",
       "      <th>title</th>\n",
       "      <th>brand</th>\n",
       "      <th>model</th>\n",
       "      <th>year</th>\n",
       "      <th>color</th>\n",
       "      <th>est_low</th>\n",
       "      <th>est_high</th>\n",
       "      <th>text</th>\n",
       "      <th>mean_sale</th>\n",
       "      <th>num_records</th>\n",
       "      <th>year_str</th>\n",
       "      <th>date</th>\n",
       "      <th>cond</th>\n",
       "      <th>price</th>\n",
       "      <th>age_at_sale</th>\n",
       "    </tr>\n",
       "  </thead>\n",
       "  <tbody>\n",
       "    <tr>\n",
       "      <th>3914</th>\n",
       "      <td>Epiphone Sheraton 1964 Sunburst</td>\n",
       "      <td>Epiphone</td>\n",
       "      <td>Sheraton</td>\n",
       "      <td>1964</td>\n",
       "      <td>Sunburst</td>\n",
       "      <td>4500.0</td>\n",
       "      <td>7000.0</td>\n",
       "      <td>Whereas the Epiphone Casino was a full hollowb...</td>\n",
       "      <td>22933.33</td>\n",
       "      <td>3</td>\n",
       "      <td>1964</td>\n",
       "      <td>2015-09-29</td>\n",
       "      <td>Very Good</td>\n",
       "      <td>56000.00</td>\n",
       "      <td>51</td>\n",
       "    </tr>\n",
       "    <tr>\n",
       "      <th>4015</th>\n",
       "      <td>Fender Broadcaster 1950 Blonde</td>\n",
       "      <td>Fender</td>\n",
       "      <td>Broadcaster</td>\n",
       "      <td>1950</td>\n",
       "      <td>Blonde</td>\n",
       "      <td>40000.0</td>\n",
       "      <td>60000.0</td>\n",
       "      <td>Fender introduced the Broadcaster as a replace...</td>\n",
       "      <td>55000.00</td>\n",
       "      <td>2</td>\n",
       "      <td>1950</td>\n",
       "      <td>2017-02-08</td>\n",
       "      <td>Excellent</td>\n",
       "      <td>55000.00</td>\n",
       "      <td>67</td>\n",
       "    </tr>\n",
       "    <tr>\n",
       "      <th>4016</th>\n",
       "      <td>Fender Broadcaster 1950 Blonde</td>\n",
       "      <td>Fender</td>\n",
       "      <td>Broadcaster</td>\n",
       "      <td>1950</td>\n",
       "      <td>Blonde</td>\n",
       "      <td>40000.0</td>\n",
       "      <td>60000.0</td>\n",
       "      <td>Fender introduced the Broadcaster as a replace...</td>\n",
       "      <td>55000.00</td>\n",
       "      <td>2</td>\n",
       "      <td>1950</td>\n",
       "      <td>2012-12-19</td>\n",
       "      <td>Very Good</td>\n",
       "      <td>55000.00</td>\n",
       "      <td>62</td>\n",
       "    </tr>\n",
       "    <tr>\n",
       "      <th>4985</th>\n",
       "      <td>Gibson Les Paul Custom 1957 Ebony</td>\n",
       "      <td>Gibson</td>\n",
       "      <td>Les Paul Custom</td>\n",
       "      <td>1957</td>\n",
       "      <td>Ebony</td>\n",
       "      <td>18715.0</td>\n",
       "      <td>47280.0</td>\n",
       "      <td>The Gibson Les Paul may carry the distinction ...</td>\n",
       "      <td>30059.82</td>\n",
       "      <td>11</td>\n",
       "      <td>1957</td>\n",
       "      <td>2021-03-05</td>\n",
       "      <td>Excellent</td>\n",
       "      <td>57000.00</td>\n",
       "      <td>64</td>\n",
       "    </tr>\n",
       "    <tr>\n",
       "      <th>5095</th>\n",
       "      <td>Gibson Les Paul Standard 1960 Burst</td>\n",
       "      <td>Gibson</td>\n",
       "      <td>Les Paul Standard</td>\n",
       "      <td>1960</td>\n",
       "      <td>Burst</td>\n",
       "      <td>140000.0</td>\n",
       "      <td>240000.0</td>\n",
       "      <td>The Gibson Les Paul Standard stands as one of ...</td>\n",
       "      <td>215965.18</td>\n",
       "      <td>6</td>\n",
       "      <td>1960</td>\n",
       "      <td>2016-10-20</td>\n",
       "      <td>Good</td>\n",
       "      <td>231870.36</td>\n",
       "      <td>56</td>\n",
       "    </tr>\n",
       "    <tr>\n",
       "      <th>5096</th>\n",
       "      <td>Gibson Les Paul Standard 1960 Burst</td>\n",
       "      <td>Gibson</td>\n",
       "      <td>Les Paul Standard</td>\n",
       "      <td>1960</td>\n",
       "      <td>Burst</td>\n",
       "      <td>140000.0</td>\n",
       "      <td>240000.0</td>\n",
       "      <td>The Gibson Les Paul Standard stands as one of ...</td>\n",
       "      <td>215965.18</td>\n",
       "      <td>6</td>\n",
       "      <td>1960</td>\n",
       "      <td>2016-09-07</td>\n",
       "      <td>Excellent</td>\n",
       "      <td>302420.71</td>\n",
       "      <td>56</td>\n",
       "    </tr>\n",
       "    <tr>\n",
       "      <th>5097</th>\n",
       "      <td>Gibson Les Paul Standard 1960 Burst</td>\n",
       "      <td>Gibson</td>\n",
       "      <td>Les Paul Standard</td>\n",
       "      <td>1960</td>\n",
       "      <td>Burst</td>\n",
       "      <td>140000.0</td>\n",
       "      <td>240000.0</td>\n",
       "      <td>The Gibson Les Paul Standard stands as one of ...</td>\n",
       "      <td>215965.18</td>\n",
       "      <td>6</td>\n",
       "      <td>1960</td>\n",
       "      <td>2014-05-12</td>\n",
       "      <td>Very Good</td>\n",
       "      <td>245000.00</td>\n",
       "      <td>54</td>\n",
       "    </tr>\n",
       "    <tr>\n",
       "      <th>5098</th>\n",
       "      <td>Gibson Les Paul Standard 1960 Burst</td>\n",
       "      <td>Gibson</td>\n",
       "      <td>Les Paul Standard</td>\n",
       "      <td>1960</td>\n",
       "      <td>Burst</td>\n",
       "      <td>140000.0</td>\n",
       "      <td>240000.0</td>\n",
       "      <td>The Gibson Les Paul Standard stands as one of ...</td>\n",
       "      <td>215965.18</td>\n",
       "      <td>6</td>\n",
       "      <td>1960</td>\n",
       "      <td>2014-02-15</td>\n",
       "      <td>Good</td>\n",
       "      <td>137000.00</td>\n",
       "      <td>54</td>\n",
       "    </tr>\n",
       "    <tr>\n",
       "      <th>5099</th>\n",
       "      <td>Gibson Les Paul Standard 1960 Burst</td>\n",
       "      <td>Gibson</td>\n",
       "      <td>Les Paul Standard</td>\n",
       "      <td>1960</td>\n",
       "      <td>Burst</td>\n",
       "      <td>140000.0</td>\n",
       "      <td>240000.0</td>\n",
       "      <td>The Gibson Les Paul Standard stands as one of ...</td>\n",
       "      <td>215965.18</td>\n",
       "      <td>6</td>\n",
       "      <td>1960</td>\n",
       "      <td>2014-02-09</td>\n",
       "      <td>Very Good</td>\n",
       "      <td>245000.00</td>\n",
       "      <td>54</td>\n",
       "    </tr>\n",
       "    <tr>\n",
       "      <th>5100</th>\n",
       "      <td>Gibson Les Paul Standard 1960 Burst</td>\n",
       "      <td>Gibson</td>\n",
       "      <td>Les Paul Standard</td>\n",
       "      <td>1960</td>\n",
       "      <td>Burst</td>\n",
       "      <td>140000.0</td>\n",
       "      <td>240000.0</td>\n",
       "      <td>The Gibson Les Paul Standard stands as one of ...</td>\n",
       "      <td>215965.18</td>\n",
       "      <td>6</td>\n",
       "      <td>1960</td>\n",
       "      <td>2013-04-20</td>\n",
       "      <td>Very Good</td>\n",
       "      <td>134500.00</td>\n",
       "      <td>53</td>\n",
       "    </tr>\n",
       "    <tr>\n",
       "      <th>5262</th>\n",
       "      <td>Gibson Les Paul 1957 Goldtop</td>\n",
       "      <td>Gibson</td>\n",
       "      <td>Les Paul</td>\n",
       "      <td>1957</td>\n",
       "      <td>Goldtop</td>\n",
       "      <td>65000.0</td>\n",
       "      <td>85000.0</td>\n",
       "      <td>The Gibson Les Paul Standard stands as one of ...</td>\n",
       "      <td>72499.03</td>\n",
       "      <td>9</td>\n",
       "      <td>1957</td>\n",
       "      <td>2019-04-04</td>\n",
       "      <td>Good</td>\n",
       "      <td>65000.00</td>\n",
       "      <td>62</td>\n",
       "    </tr>\n",
       "    <tr>\n",
       "      <th>5263</th>\n",
       "      <td>Gibson Les Paul 1957 Goldtop</td>\n",
       "      <td>Gibson</td>\n",
       "      <td>Les Paul</td>\n",
       "      <td>1957</td>\n",
       "      <td>Goldtop</td>\n",
       "      <td>65000.0</td>\n",
       "      <td>85000.0</td>\n",
       "      <td>The Gibson Les Paul Standard stands as one of ...</td>\n",
       "      <td>72499.03</td>\n",
       "      <td>9</td>\n",
       "      <td>1957</td>\n",
       "      <td>2018-11-05</td>\n",
       "      <td>Good</td>\n",
       "      <td>78000.00</td>\n",
       "      <td>61</td>\n",
       "    </tr>\n",
       "    <tr>\n",
       "      <th>5264</th>\n",
       "      <td>Gibson Les Paul 1957 Goldtop</td>\n",
       "      <td>Gibson</td>\n",
       "      <td>Les Paul</td>\n",
       "      <td>1957</td>\n",
       "      <td>Goldtop</td>\n",
       "      <td>65000.0</td>\n",
       "      <td>85000.0</td>\n",
       "      <td>The Gibson Les Paul Standard stands as one of ...</td>\n",
       "      <td>72499.03</td>\n",
       "      <td>9</td>\n",
       "      <td>1957</td>\n",
       "      <td>2018-08-23</td>\n",
       "      <td>Good</td>\n",
       "      <td>65000.00</td>\n",
       "      <td>61</td>\n",
       "    </tr>\n",
       "    <tr>\n",
       "      <th>5265</th>\n",
       "      <td>Gibson Les Paul 1957 Goldtop</td>\n",
       "      <td>Gibson</td>\n",
       "      <td>Les Paul</td>\n",
       "      <td>1957</td>\n",
       "      <td>Goldtop</td>\n",
       "      <td>65000.0</td>\n",
       "      <td>85000.0</td>\n",
       "      <td>The Gibson Les Paul Standard stands as one of ...</td>\n",
       "      <td>72499.03</td>\n",
       "      <td>9</td>\n",
       "      <td>1957</td>\n",
       "      <td>2017-01-13</td>\n",
       "      <td>Good</td>\n",
       "      <td>81491.26</td>\n",
       "      <td>60</td>\n",
       "    </tr>\n",
       "    <tr>\n",
       "      <th>5266</th>\n",
       "      <td>Gibson Les Paul 1957 Goldtop</td>\n",
       "      <td>Gibson</td>\n",
       "      <td>Les Paul</td>\n",
       "      <td>1957</td>\n",
       "      <td>Goldtop</td>\n",
       "      <td>65000.0</td>\n",
       "      <td>85000.0</td>\n",
       "      <td>The Gibson Les Paul Standard stands as one of ...</td>\n",
       "      <td>72499.03</td>\n",
       "      <td>9</td>\n",
       "      <td>1957</td>\n",
       "      <td>2016-08-29</td>\n",
       "      <td>Very Good</td>\n",
       "      <td>65000.00</td>\n",
       "      <td>59</td>\n",
       "    </tr>\n",
       "    <tr>\n",
       "      <th>5267</th>\n",
       "      <td>Gibson Les Paul 1957 Goldtop</td>\n",
       "      <td>Gibson</td>\n",
       "      <td>Les Paul</td>\n",
       "      <td>1957</td>\n",
       "      <td>Goldtop</td>\n",
       "      <td>65000.0</td>\n",
       "      <td>85000.0</td>\n",
       "      <td>The Gibson Les Paul Standard stands as one of ...</td>\n",
       "      <td>72499.03</td>\n",
       "      <td>9</td>\n",
       "      <td>1957</td>\n",
       "      <td>2014-02-25</td>\n",
       "      <td>Good</td>\n",
       "      <td>84000.00</td>\n",
       "      <td>57</td>\n",
       "    </tr>\n",
       "    <tr>\n",
       "      <th>5268</th>\n",
       "      <td>Gibson Les Paul 1957 Goldtop</td>\n",
       "      <td>Gibson</td>\n",
       "      <td>Les Paul</td>\n",
       "      <td>1957</td>\n",
       "      <td>Goldtop</td>\n",
       "      <td>65000.0</td>\n",
       "      <td>85000.0</td>\n",
       "      <td>The Gibson Les Paul Standard stands as one of ...</td>\n",
       "      <td>72499.03</td>\n",
       "      <td>9</td>\n",
       "      <td>1957</td>\n",
       "      <td>2014-02-25</td>\n",
       "      <td>Good</td>\n",
       "      <td>84000.00</td>\n",
       "      <td>57</td>\n",
       "    </tr>\n",
       "    <tr>\n",
       "      <th>5269</th>\n",
       "      <td>Gibson Les Paul 1957 Goldtop</td>\n",
       "      <td>Gibson</td>\n",
       "      <td>Les Paul</td>\n",
       "      <td>1957</td>\n",
       "      <td>Goldtop</td>\n",
       "      <td>65000.0</td>\n",
       "      <td>85000.0</td>\n",
       "      <td>The Gibson Les Paul Standard stands as one of ...</td>\n",
       "      <td>72499.03</td>\n",
       "      <td>9</td>\n",
       "      <td>1957</td>\n",
       "      <td>2012-05-25</td>\n",
       "      <td>Very Good</td>\n",
       "      <td>55000.00</td>\n",
       "      <td>55</td>\n",
       "    </tr>\n",
       "    <tr>\n",
       "      <th>5270</th>\n",
       "      <td>Gibson Les Paul 1957 Goldtop</td>\n",
       "      <td>Gibson</td>\n",
       "      <td>Les Paul</td>\n",
       "      <td>1957</td>\n",
       "      <td>Goldtop</td>\n",
       "      <td>65000.0</td>\n",
       "      <td>85000.0</td>\n",
       "      <td>The Gibson Les Paul Standard stands as one of ...</td>\n",
       "      <td>72499.03</td>\n",
       "      <td>9</td>\n",
       "      <td>1957</td>\n",
       "      <td>2012-04-19</td>\n",
       "      <td>Very Good</td>\n",
       "      <td>75000.00</td>\n",
       "      <td>55</td>\n",
       "    </tr>\n",
       "    <tr>\n",
       "      <th>5297</th>\n",
       "      <td>Gibson Les Paul Standard 1958 Goldtop</td>\n",
       "      <td>Gibson</td>\n",
       "      <td>Les Paul Standard</td>\n",
       "      <td>1958</td>\n",
       "      <td>Goldtop</td>\n",
       "      <td>85000.0</td>\n",
       "      <td>105000.0</td>\n",
       "      <td>The Gibson Les Paul Standard stands as one of ...</td>\n",
       "      <td>115000.00</td>\n",
       "      <td>1</td>\n",
       "      <td>1958</td>\n",
       "      <td>2019-03-22</td>\n",
       "      <td>Very Good</td>\n",
       "      <td>115000.00</td>\n",
       "      <td>61</td>\n",
       "    </tr>\n",
       "    <tr>\n",
       "      <th>78738</th>\n",
       "      <td>Gibson Slash Signature Les Paul 2013 Rosso Corsa</td>\n",
       "      <td>Gibson</td>\n",
       "      <td>Slash Signature Les Paul</td>\n",
       "      <td>2013</td>\n",
       "      <td>Rosso Corsa</td>\n",
       "      <td>2030.0</td>\n",
       "      <td>2875.0</td>\n",
       "      <td>This limited edition signature Les Paul was bu...</td>\n",
       "      <td>3184.48</td>\n",
       "      <td>85</td>\n",
       "      <td>2013</td>\n",
       "      <td>2017-08-13</td>\n",
       "      <td>Good</td>\n",
       "      <td>65000.00</td>\n",
       "      <td>4</td>\n",
       "    </tr>\n",
       "    <tr>\n",
       "      <th>131922</th>\n",
       "      <td>Gibson Les Paul Standard 1959 Burst</td>\n",
       "      <td>Gibson</td>\n",
       "      <td>Les Paul Standard</td>\n",
       "      <td>1959</td>\n",
       "      <td>Burst</td>\n",
       "      <td>140000.0</td>\n",
       "      <td>240000.0</td>\n",
       "      <td>The Gibson Les Paul Standard stands as one of ...</td>\n",
       "      <td>175096.00</td>\n",
       "      <td>2</td>\n",
       "      <td>1959</td>\n",
       "      <td>2019-11-18</td>\n",
       "      <td>Very Good</td>\n",
       "      <td>349993.00</td>\n",
       "      <td>60</td>\n",
       "    </tr>\n",
       "  </tbody>\n",
       "</table>\n",
       "</div>"
      ],
      "text/plain": [
       "                                                   title     brand  \\\n",
       "3914                     Epiphone Sheraton 1964 Sunburst  Epiphone   \n",
       "4015                      Fender Broadcaster 1950 Blonde    Fender   \n",
       "4016                      Fender Broadcaster 1950 Blonde    Fender   \n",
       "4985                   Gibson Les Paul Custom 1957 Ebony    Gibson   \n",
       "5095                 Gibson Les Paul Standard 1960 Burst    Gibson   \n",
       "5096                 Gibson Les Paul Standard 1960 Burst    Gibson   \n",
       "5097                 Gibson Les Paul Standard 1960 Burst    Gibson   \n",
       "5098                 Gibson Les Paul Standard 1960 Burst    Gibson   \n",
       "5099                 Gibson Les Paul Standard 1960 Burst    Gibson   \n",
       "5100                 Gibson Les Paul Standard 1960 Burst    Gibson   \n",
       "5262                        Gibson Les Paul 1957 Goldtop    Gibson   \n",
       "5263                        Gibson Les Paul 1957 Goldtop    Gibson   \n",
       "5264                        Gibson Les Paul 1957 Goldtop    Gibson   \n",
       "5265                        Gibson Les Paul 1957 Goldtop    Gibson   \n",
       "5266                        Gibson Les Paul 1957 Goldtop    Gibson   \n",
       "5267                        Gibson Les Paul 1957 Goldtop    Gibson   \n",
       "5268                        Gibson Les Paul 1957 Goldtop    Gibson   \n",
       "5269                        Gibson Les Paul 1957 Goldtop    Gibson   \n",
       "5270                        Gibson Les Paul 1957 Goldtop    Gibson   \n",
       "5297               Gibson Les Paul Standard 1958 Goldtop    Gibson   \n",
       "78738   Gibson Slash Signature Les Paul 2013 Rosso Corsa    Gibson   \n",
       "131922               Gibson Les Paul Standard 1959 Burst    Gibson   \n",
       "\n",
       "                           model  year        color   est_low  est_high  \\\n",
       "3914                    Sheraton  1964     Sunburst    4500.0    7000.0   \n",
       "4015                 Broadcaster  1950       Blonde   40000.0   60000.0   \n",
       "4016                 Broadcaster  1950       Blonde   40000.0   60000.0   \n",
       "4985             Les Paul Custom  1957        Ebony   18715.0   47280.0   \n",
       "5095           Les Paul Standard  1960        Burst  140000.0  240000.0   \n",
       "5096           Les Paul Standard  1960        Burst  140000.0  240000.0   \n",
       "5097           Les Paul Standard  1960        Burst  140000.0  240000.0   \n",
       "5098           Les Paul Standard  1960        Burst  140000.0  240000.0   \n",
       "5099           Les Paul Standard  1960        Burst  140000.0  240000.0   \n",
       "5100           Les Paul Standard  1960        Burst  140000.0  240000.0   \n",
       "5262                    Les Paul  1957      Goldtop   65000.0   85000.0   \n",
       "5263                    Les Paul  1957      Goldtop   65000.0   85000.0   \n",
       "5264                    Les Paul  1957      Goldtop   65000.0   85000.0   \n",
       "5265                    Les Paul  1957      Goldtop   65000.0   85000.0   \n",
       "5266                    Les Paul  1957      Goldtop   65000.0   85000.0   \n",
       "5267                    Les Paul  1957      Goldtop   65000.0   85000.0   \n",
       "5268                    Les Paul  1957      Goldtop   65000.0   85000.0   \n",
       "5269                    Les Paul  1957      Goldtop   65000.0   85000.0   \n",
       "5270                    Les Paul  1957      Goldtop   65000.0   85000.0   \n",
       "5297           Les Paul Standard  1958      Goldtop   85000.0  105000.0   \n",
       "78738   Slash Signature Les Paul  2013  Rosso Corsa    2030.0    2875.0   \n",
       "131922         Les Paul Standard  1959        Burst  140000.0  240000.0   \n",
       "\n",
       "                                                     text  mean_sale  \\\n",
       "3914    Whereas the Epiphone Casino was a full hollowb...   22933.33   \n",
       "4015    Fender introduced the Broadcaster as a replace...   55000.00   \n",
       "4016    Fender introduced the Broadcaster as a replace...   55000.00   \n",
       "4985    The Gibson Les Paul may carry the distinction ...   30059.82   \n",
       "5095    The Gibson Les Paul Standard stands as one of ...  215965.18   \n",
       "5096    The Gibson Les Paul Standard stands as one of ...  215965.18   \n",
       "5097    The Gibson Les Paul Standard stands as one of ...  215965.18   \n",
       "5098    The Gibson Les Paul Standard stands as one of ...  215965.18   \n",
       "5099    The Gibson Les Paul Standard stands as one of ...  215965.18   \n",
       "5100    The Gibson Les Paul Standard stands as one of ...  215965.18   \n",
       "5262    The Gibson Les Paul Standard stands as one of ...   72499.03   \n",
       "5263    The Gibson Les Paul Standard stands as one of ...   72499.03   \n",
       "5264    The Gibson Les Paul Standard stands as one of ...   72499.03   \n",
       "5265    The Gibson Les Paul Standard stands as one of ...   72499.03   \n",
       "5266    The Gibson Les Paul Standard stands as one of ...   72499.03   \n",
       "5267    The Gibson Les Paul Standard stands as one of ...   72499.03   \n",
       "5268    The Gibson Les Paul Standard stands as one of ...   72499.03   \n",
       "5269    The Gibson Les Paul Standard stands as one of ...   72499.03   \n",
       "5270    The Gibson Les Paul Standard stands as one of ...   72499.03   \n",
       "5297    The Gibson Les Paul Standard stands as one of ...  115000.00   \n",
       "78738   This limited edition signature Les Paul was bu...    3184.48   \n",
       "131922  The Gibson Les Paul Standard stands as one of ...  175096.00   \n",
       "\n",
       "        num_records year_str       date       cond      price  age_at_sale  \n",
       "3914              3     1964 2015-09-29  Very Good   56000.00           51  \n",
       "4015              2     1950 2017-02-08  Excellent   55000.00           67  \n",
       "4016              2     1950 2012-12-19  Very Good   55000.00           62  \n",
       "4985             11     1957 2021-03-05  Excellent   57000.00           64  \n",
       "5095              6     1960 2016-10-20       Good  231870.36           56  \n",
       "5096              6     1960 2016-09-07  Excellent  302420.71           56  \n",
       "5097              6     1960 2014-05-12  Very Good  245000.00           54  \n",
       "5098              6     1960 2014-02-15       Good  137000.00           54  \n",
       "5099              6     1960 2014-02-09  Very Good  245000.00           54  \n",
       "5100              6     1960 2013-04-20  Very Good  134500.00           53  \n",
       "5262              9     1957 2019-04-04       Good   65000.00           62  \n",
       "5263              9     1957 2018-11-05       Good   78000.00           61  \n",
       "5264              9     1957 2018-08-23       Good   65000.00           61  \n",
       "5265              9     1957 2017-01-13       Good   81491.26           60  \n",
       "5266              9     1957 2016-08-29  Very Good   65000.00           59  \n",
       "5267              9     1957 2014-02-25       Good   84000.00           57  \n",
       "5268              9     1957 2014-02-25       Good   84000.00           57  \n",
       "5269              9     1957 2012-05-25  Very Good   55000.00           55  \n",
       "5270              9     1957 2012-04-19  Very Good   75000.00           55  \n",
       "5297              1     1958 2019-03-22  Very Good  115000.00           61  \n",
       "78738            85     2013 2017-08-13       Good   65000.00            4  \n",
       "131922            2     1959 2019-11-18  Very Good  349993.00           60  "
      ]
     },
     "execution_count": 55,
     "metadata": {},
     "output_type": "execute_result"
    }
   ],
   "source": [
    "merge_df[merge_df['price'] > 50000]"
   ]
  },
  {
   "cell_type": "code",
   "execution_count": 56,
   "id": "2eb08171",
   "metadata": {},
   "outputs": [
    {
     "name": "stdout",
     "output_type": "stream",
     "text": [
      "{'_id': ObjectId('6054ef739af17e64c83e04c3'), 'title': 'Gibson Les Paul Standard 1959 Burst', 'link': 'https://reverb.com/price-guide/guide/19833-gibson-les-paul-standard-1959-burst'}\n"
     ]
    }
   ],
   "source": [
    "for doc in link_coll.find({'title': 'Gibson Les Paul Standard 1959 Burst'}, {'html': 0}):\n",
    "    print(doc)"
   ]
  }
 ],
 "metadata": {
  "kernelspec": {
   "display_name": "Python 3",
   "language": "python",
   "name": "python3"
  },
  "language_info": {
   "codemirror_mode": {
    "name": "ipython",
    "version": 3
   },
   "file_extension": ".py",
   "mimetype": "text/x-python",
   "name": "python",
   "nbconvert_exporter": "python",
   "pygments_lexer": "ipython3",
   "version": "3.8.8"
  }
 },
 "nbformat": 4,
 "nbformat_minor": 5
}
